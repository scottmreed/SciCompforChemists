{
 "cells": [
  {
   "cell_type": "markdown",
   "metadata": {},
   "source": [
    "(1)=\n",
    "# Chapter 1: Basic Python"
   ]
  },
  {
   "cell_type": "markdown",
   "metadata": {},
   "source": [
    "(1.1)=\n",
    "## 1.1 Numbers\n",
    "(1.1.1)=\n",
    "### 1.1.1 Basic Math\n",
    "\n",
    "To a degree, Python is an extremely powerful calculator that can perform both basic arithmetic and advanced mathematical calculations. Doing math in a Python interpreter is similar to using a graphing calculator – the user inputs a mathematical expression in a line and presses **Return** (or **Shift-Return** in the case of a Jupyter notebook cell), and the output appears directly below. Python includes a few basic mathematical operators shown in the table below. \n",
    "\n",
    "**Table 1** Python Mathematical Operators\n",
    "\n",
    "| Operator | Description |\n",
    "| :-------:| :---------  |\n",
    "| +  | Addition |\n",
    "| - | Subtraction |\n",
    "| * | Multiplication |\n",
    "| / | Division (regular) |\n",
    "| // | Integer division (aka. floor division) |\n",
    "| ** | Exponentiation |\n",
    "| % | Modulus (aka. remainder)|\n",
    "\n",
    "The addition, subtraction, multiplication, and division (regular) operators work the same way as they do in most math classes. In addition, Python follows the standard order of operation, so parentheses can be used to change the flow of the mathematical operations as needed."
   ]
  },
  {
   "cell_type": "code",
   "metadata": {
    "ExecuteTime": {
     "end_time": "2025-01-14T13:54:32.002468Z",
     "start_time": "2025-01-14T13:54:32.000144Z"
    }
   },
   "source": [
    "8 + 3 * 2"
   ],
   "outputs": [
    {
     "data": {
      "text/plain": [
       "14"
      ]
     },
     "execution_count": 637,
     "metadata": {},
     "output_type": "execute_result"
    }
   ],
   "execution_count": 637
  },
  {
   "cell_type": "code",
   "metadata": {
    "ExecuteTime": {
     "end_time": "2025-01-14T13:54:32.023322Z",
     "start_time": "2025-01-14T13:54:32.021284Z"
    }
   },
   "source": [
    "(8 + 3) * 2"
   ],
   "outputs": [
    {
     "data": {
      "text/plain": [
       "22"
      ]
     },
     "execution_count": 638,
     "metadata": {},
     "output_type": "execute_result"
    }
   ],
   "execution_count": 638
  },
  {
   "cell_type": "markdown",
   "metadata": {},
   "source": [
    "You may have noticed that there are spaces around the mathematical operators in the example calculations above. Python does *not* care about spaces *within* a line, so feel free to add spaces to make your calculation more readable as is done above. Python does, however, care about spaces at the *beginning* of a line. This will be further addressed in the sections on conditions and loops.\n",
    "\n",
    "```{index} integer division\n",
    "```\n",
    "\n",
    "Regular division, denoted by a single forward slash (`/`), is exactly what you probably expect. Three divided by two is one and a half. *Integer division*, shown with a double forward slash (`//`),  is a little more surprising. Instead of providing the exact answer, it can be viewed as either rounding down to the nearest integer (also known as *flooring* it) or simply truncating off anything after the decimal place."
   ]
  },
  {
   "cell_type": "code",
   "metadata": {
    "ExecuteTime": {
     "end_time": "2025-01-14T13:54:32.035652Z",
     "start_time": "2025-01-14T13:54:32.033886Z"
    }
   },
   "source": [
    "3 / 2"
   ],
   "outputs": [
    {
     "data": {
      "text/plain": [
       "1.5"
      ]
     },
     "execution_count": 639,
     "metadata": {},
     "output_type": "execute_result"
    }
   ],
   "execution_count": 639
  },
  {
   "cell_type": "code",
   "metadata": {
    "ExecuteTime": {
     "end_time": "2025-01-14T13:54:32.050671Z",
     "start_time": "2025-01-14T13:54:32.048949Z"
    }
   },
   "source": [
    "3 // 2"
   ],
   "outputs": [
    {
     "data": {
      "text/plain": [
       "1"
      ]
     },
     "execution_count": 640,
     "metadata": {},
     "output_type": "execute_result"
    }
   ],
   "execution_count": 640
  },
  {
   "cell_type": "markdown",
   "metadata": {},
   "source": [
    "Exponentiation is performed with a double asterisk (`**`). The carrot (`^`) means something else, so be careful not to accidentally use this."
   ]
  },
  {
   "cell_type": "code",
   "metadata": {
    "ExecuteTime": {
     "end_time": "2025-01-14T13:54:32.064588Z",
     "start_time": "2025-01-14T13:54:32.062859Z"
    }
   },
   "source": [
    "2 ** 3"
   ],
   "outputs": [
    {
     "data": {
      "text/plain": [
       "8"
      ]
     },
     "execution_count": 641,
     "metadata": {},
     "output_type": "execute_result"
    }
   ],
   "execution_count": 641
  },
  {
   "cell_type": "markdown",
   "metadata": {},
   "source": [
    "```{index} modulo\n",
    "```\n",
    "```{index} modulus\n",
    "```\n",
    "Occasionally, obtaining the *modulus* is also useful and is done using the *modulo* operator (`%`). This is also sometimes referred to as the *remainder* after division as it is whatever is left over that does not divide evenly into the divisor. In the example below, 3 is seen as going into 10 thrice with 1 left over. The left over portion is the modulus. This is often useful in determining if a number is even among other things."
   ]
  },
  {
   "cell_type": "code",
   "metadata": {
    "ExecuteTime": {
     "end_time": "2025-01-14T13:54:32.078387Z",
     "start_time": "2025-01-14T13:54:32.076642Z"
    }
   },
   "source": [
    "10 % 3"
   ],
   "outputs": [
    {
     "data": {
      "text/plain": [
       "1"
      ]
     },
     "execution_count": 642,
     "metadata": {},
     "output_type": "execute_result"
    }
   ],
   "execution_count": 642
  },
  {
   "cell_type": "markdown",
   "metadata": {},
   "source": [
    "(1.1.2)=\n",
    "### 1.1.2 Integers & Floats\n",
    "\n",
    "```{index} integers \n",
    "```\n",
    "```{index} floats \n",
    "```\n",
    "\n",
    "There are two types of numbers in Python – floats and integers. *Floats*, short for “floating point numbers,” are values with decimals in them. They may be either whole or non-whole values such as 3.0 or 1.2, but there is always a decimal point. *Integers* are whole numbers with no decimal point such as 2 or 53.\n",
    "\n",
    "Mathematical operations that include only integers and evaluate to a whole number will generate an integer. All other situations will generate a float. In the second example below, a float is generated because one of the inputs is a float. In the third example below, a float is generated despite only integers in the input because the operation evaluates to a fraction."
   ]
  },
  {
   "cell_type": "code",
   "metadata": {
    "ExecuteTime": {
     "end_time": "2025-01-14T13:54:32.091649Z",
     "start_time": "2025-01-14T13:54:32.090080Z"
    }
   },
   "source": [
    "3 + 8"
   ],
   "outputs": [
    {
     "data": {
      "text/plain": [
       "11"
      ]
     },
     "execution_count": 643,
     "metadata": {},
     "output_type": "execute_result"
    }
   ],
   "execution_count": 643
  },
  {
   "cell_type": "code",
   "metadata": {
    "ExecuteTime": {
     "end_time": "2025-01-14T13:54:32.105740Z",
     "start_time": "2025-01-14T13:54:32.103850Z"
    }
   },
   "source": [
    "3.0 + 8"
   ],
   "outputs": [
    {
     "data": {
      "text/plain": [
       "11.0"
      ]
     },
     "execution_count": 644,
     "metadata": {},
     "output_type": "execute_result"
    }
   ],
   "execution_count": 644
  },
  {
   "cell_type": "code",
   "metadata": {
    "ExecuteTime": {
     "end_time": "2025-01-14T13:54:32.118737Z",
     "start_time": "2025-01-14T13:54:32.116901Z"
    }
   },
   "source": [
    "2 / 5"
   ],
   "outputs": [
    {
     "data": {
      "text/plain": [
       "0.4"
      ]
     },
     "execution_count": 645,
     "metadata": {},
     "output_type": "execute_result"
    }
   ],
   "execution_count": 645
  },
  {
   "cell_type": "markdown",
   "metadata": {},
   "source": [
    "Integers and floats can be interconverted using the `int()` and `float()` functions."
   ]
  },
  {
   "cell_type": "code",
   "metadata": {
    "ExecuteTime": {
     "end_time": "2025-01-14T13:54:32.131979Z",
     "start_time": "2025-01-14T13:54:32.130177Z"
    }
   },
   "source": [
    "int(3.0)"
   ],
   "outputs": [
    {
     "data": {
      "text/plain": [
       "3"
      ]
     },
     "execution_count": 646,
     "metadata": {},
     "output_type": "execute_result"
    }
   ],
   "execution_count": 646
  },
  {
   "cell_type": "code",
   "metadata": {
    "ExecuteTime": {
     "end_time": "2025-01-14T13:54:32.146511Z",
     "start_time": "2025-01-14T13:54:32.144846Z"
    }
   },
   "source": [
    "float(4)"
   ],
   "outputs": [
    {
     "data": {
      "text/plain": [
       "4.0"
      ]
     },
     "execution_count": 647,
     "metadata": {},
     "output_type": "execute_result"
    }
   ],
   "execution_count": 647
  },
  {
   "cell_type": "markdown",
   "metadata": {},
   "source": [
    "The distinction between floats and integers is often a minor detail. There are times when a specific application or function will require a value as an integer or float. However, a majority of the time, you do not need to think much about it as Python manages most of this for you in the background."
   ]
  },
  {
   "cell_type": "markdown",
   "metadata": {},
   "source": [
    "(1.1.3)=\n",
    "### 1.1.3 Python Functions\n",
    "\n",
    "```{index} single: functions; calling functions\n",
    "```\n",
    "```{index} single: functions; arguments\n",
    "```\n",
    "```{index} arguments\n",
    "```\n",
    "\n",
    "In addition to basic mathematical operators, Python contains a number of functions. As in mathematics, a function has a name (e.g., $f$) and the arguments are placed inside of the parentheses after the name. The *argument* is any value or piece of information fed into a function. In the case below, $f$ requires a single argument `x`.\n",
    "\n",
    "$$ f(x) $$\n",
    "\n",
    "There are a number of useful math functions in Python with Table 2 describing a few common ones such as the absolute value, `abs()`, and round, `round()`, functions. Note that the `round()` function uses Banker's rounding -  if a number is half way between two integers (e.g., 4.5), it will round toward the even integer (i.e., 4)."
   ]
  },
  {
   "cell_type": "code",
   "metadata": {
    "ExecuteTime": {
     "end_time": "2025-01-14T13:54:32.159843Z",
     "start_time": "2025-01-14T13:54:32.158132Z"
    }
   },
   "source": [
    "abs(-4)"
   ],
   "outputs": [
    {
     "data": {
      "text/plain": [
       "4"
      ]
     },
     "execution_count": 648,
     "metadata": {},
     "output_type": "execute_result"
    }
   ],
   "execution_count": 648
  },
  {
   "cell_type": "code",
   "metadata": {
    "ExecuteTime": {
     "end_time": "2025-01-14T13:54:32.172437Z",
     "start_time": "2025-01-14T13:54:32.170657Z"
    }
   },
   "source": [
    "round(4.5)"
   ],
   "outputs": [
    {
     "data": {
      "text/plain": [
       "4"
      ]
     },
     "execution_count": 649,
     "metadata": {},
     "output_type": "execute_result"
    }
   ],
   "execution_count": 649
  },
  {
   "cell_type": "markdown",
   "metadata": {},
   "source": [
    "**Table 2** Common Python Functions\n",
    "\n",
    "| Function | Description |\n",
    "| :------: | :--------   |\n",
    "|`abs()`   | Returns the absolute value |\n",
    "| `float()`| Converts a value to a float |\n",
    "|` int()`  | Converts a value to an integer |\n",
    "| `len() ` | Returns the length of an object |\n",
    "| `list()` | Converts an object to a list |\n",
    "| `max()`  | Returns the maximum value |\n",
    "| `min()`  | Returns the minimum value |\n",
    "| `open()` | Opens a file   |\n",
    "| `print()`| Displays an output  |\n",
    "|`round() `| Rounds a value using banker’s rounding |\n",
    "| `str()`  | Converts an object to a string |\n",
    "| `sum()`  | Returns the sum of values |\n",
    "| `tuple()`| Converts an object to a tuple |\n",
    "| `type()` | Returns the object type (e.g., float) |\n",
    "| `zip()`  | Zips together two lists or tuples |\n",
    "\n",
    "The `print()` function is one of the most commonly used functions that tells Python to display some text or values. While Jupyter notebooks will display the output or contents of a variable by default, the `print()` function allows for a considerable more control as you will see below in [section 1.3](1.3)."
   ]
  },
  {
   "cell_type": "code",
   "metadata": {
    "ExecuteTime": {
     "end_time": "2025-01-14T13:54:32.184925Z",
     "start_time": "2025-01-14T13:54:32.183599Z"
    }
   },
   "source": [
    "print(8.3145)"
   ],
   "outputs": [
    {
     "name": "stdout",
     "output_type": "stream",
     "text": [
      "8.3145\n"
     ]
    }
   ],
   "execution_count": 650
  },
  {
   "cell_type": "markdown",
   "metadata": {},
   "source": [
    "In addition to Python's native collection of functions, Python also contains a `math` module with more mathematical functions. Think of a module as an add-on or tool pack for Python. The `math` module comes with every installation of Python and is activated by importing it (i.e., loading it into memory) using the `import math` command. After the module has been imported, any function in the module is called using `math.function()` where `function` is the name of the function. For example, `math` contains the function `sqrt()` for taking the square root of values."
   ]
  },
  {
   "cell_type": "code",
   "metadata": {
    "ExecuteTime": {
     "end_time": "2025-01-14T13:54:32.198333Z",
     "start_time": "2025-01-14T13:54:32.196606Z"
    }
   },
   "source": [
    "import math\n",
    "math.sqrt(4)"
   ],
   "outputs": [
    {
     "data": {
      "text/plain": [
       "2.0"
      ]
     },
     "execution_count": 651,
     "metadata": {},
     "output_type": "execute_result"
    }
   ],
   "execution_count": 651
  },
  {
   "cell_type": "markdown",
   "metadata": {},
   "source": [
    "Table 3 lists some commonly used functions in the `math` module, and a few examples are shown below. Interestingly, some functions simply provide a mathematical constant."
   ]
  },
  {
   "cell_type": "code",
   "metadata": {
    "ExecuteTime": {
     "end_time": "2025-01-14T13:54:32.211260Z",
     "start_time": "2025-01-14T13:54:32.209591Z"
    }
   },
   "source": [
    "math.ceil(4.3)"
   ],
   "outputs": [
    {
     "data": {
      "text/plain": [
       "5"
      ]
     },
     "execution_count": 652,
     "metadata": {},
     "output_type": "execute_result"
    }
   ],
   "execution_count": 652
  },
  {
   "cell_type": "code",
   "metadata": {
    "ExecuteTime": {
     "end_time": "2025-01-14T13:54:32.227291Z",
     "start_time": "2025-01-14T13:54:32.225509Z"
    }
   },
   "source": [
    "math.pi"
   ],
   "outputs": [
    {
     "data": {
      "text/plain": [
       "3.141592653589793"
      ]
     },
     "execution_count": 653,
     "metadata": {},
     "output_type": "execute_result"
    }
   ],
   "execution_count": 653
  },
  {
   "cell_type": "code",
   "metadata": {
    "ExecuteTime": {
     "end_time": "2025-01-14T13:54:32.248746Z",
     "start_time": "2025-01-14T13:54:32.247051Z"
    }
   },
   "source": [
    "math.pow(2, 8)"
   ],
   "outputs": [
    {
     "data": {
      "text/plain": [
       "256.0"
      ]
     },
     "execution_count": 654,
     "metadata": {},
     "output_type": "execute_result"
    }
   ],
   "execution_count": 654
  },
  {
   "cell_type": "markdown",
   "metadata": {},
   "source": [
    "**Table 3** Common math Functions\n",
    "\n",
    "```{index} factorial\n",
    "```\n",
    "\n",
    "| Function  | Description |\n",
    "| :-----:   | :---------  |\n",
    "| `ceil(x)` | Rounds $x$ up to nearest integer |\n",
    "| `cos(x)`  | Returns $cos(x)$ |\n",
    "| `degrees(x)` | Converts $x$ from radians to degrees |\n",
    "| `e`  | Returns the value $e$ |\n",
    "| `exp(x)`  | Returns $e^x$ |\n",
    "| `factorial(x)` | Takes the factorial (!) of $x$ |\n",
    "| `floor(x)` | Rounds $x$ down to the nearest integer |\n",
    "| `log(x)`  | Takes the natural log (ln) of $x$ |\n",
    "| `log10(x)` | Takes the common log (base 10) of $x$ |\n",
    "| `pi` | Returns the value $\\pi$ |\n",
    "| `pow(x, y)` | Returns $x^y$ |\n",
    "| `radians(x)` | Converts $x$ from degrees to radians |\n",
    "| `sin(x)`  | Returns $sin(x)$ |\n",
    "| `sqrt(x)` | Returns the square root of $x$ |\n",
    "| `tan(x)` | Returns $tan(x)$ |\n"
   ]
  },
  {
   "cell_type": "markdown",
   "metadata": {},
   "source": [
    "There are more ways to import functions or modules in Python. If you only want to use a single function from the entire module, you can selectively import it using the `from` statement. Below is an example of importing only the `radians()` function."
   ]
  },
  {
   "cell_type": "code",
   "metadata": {
    "ExecuteTime": {
     "end_time": "2025-01-14T13:54:32.260760Z",
     "start_time": "2025-01-14T13:54:32.258614Z"
    }
   },
   "source": [
    "from math import radians\n",
    "radians(4)"
   ],
   "outputs": [
    {
     "data": {
      "text/plain": [
       "0.06981317007977318"
      ]
     },
     "execution_count": 655,
     "metadata": {},
     "output_type": "execute_result"
    }
   ],
   "execution_count": 655
  },
  {
   "cell_type": "markdown",
   "metadata": {},
   "source": [
    "One advantage of importing only a single function or variable is that you do not need to use the `math.` prefix. Some Python users take this method one step further by using a wild card (`*`), which imports everything from the module. That is, they type `from math import *`. This imports all functions and variables and again allows the user to use them without the `math.` prefix. The down side is that you might accidentally overwrite a variable (see following [section 1.2](1.2) on variables) in your code this way. Unless you are absolutely certain you know all the functions and variables in a module and that it will not overwrite any variables in your code, do not use the `*` import. On second thought, just avoid using the `*` import anyway."
   ]
  },
  {
   "cell_type": "markdown",
   "metadata": {},
   "source": [
    "(1.2)=\n",
    "## 1.2 Variables\n",
    "\n",
    "```{index} variables\n",
    "```\n",
    "\n",
    "When performing mathematical operations, it is often desirable to store values in *variables* for later use instead of manually typing them back in. This will save effort when writing your code and make any changes automatically propagate through your calculations.\n",
    "\n",
    "(1.2.1)=\n",
    "### 1.2.1 Choosing & Assigning Variables\n",
    "\n",
    "Attaching a value to a variable is called *assignment* and is performed using a single equal sign (`=`). Below, `5.0` and `3` are assigned to the variables `a` and `b`, respectively. Mathematical operations can then be performed with the variables just as is done with numerical values."
   ]
  },
  {
   "cell_type": "code",
   "metadata": {
    "ExecuteTime": {
     "end_time": "2025-01-14T13:54:32.271892Z",
     "start_time": "2025-01-14T13:54:32.270528Z"
    }
   },
   "source": [
    "a = 5.0 \n",
    "b = 3"
   ],
   "outputs": [],
   "execution_count": 656
  },
  {
   "cell_type": "code",
   "metadata": {
    "ExecuteTime": {
     "end_time": "2025-01-14T13:54:32.288992Z",
     "start_time": "2025-01-14T13:54:32.287271Z"
    }
   },
   "source": [
    "a + b"
   ],
   "outputs": [
    {
     "data": {
      "text/plain": [
       "8.0"
      ]
     },
     "execution_count": 657,
     "metadata": {},
     "output_type": "execute_result"
    }
   ],
   "execution_count": 657
  },
  {
   "cell_type": "markdown",
   "metadata": {},
   "source": [
    "```{index} variable naming rules\n",
    "```\n",
    "\n",
    "Variables can be almost any string of characters as long as they start with a letter, do not contain an operator (see Table 1), and are not contained in Python's list of reserved words shown in Table 4. It is also important to not use a variable twice as this will overwrite the first value. Modules and functions are also attached to variables, so if you have imported the `math` module, the module is attached to the variable `math`.\n",
    "\n",
    "**Table 4** Python Reserved Words\n",
    "\n",
    "|     |    |        |             |          |          |\n",
    "|:--: |:--:| :----: |  :-------:  |:------:  | :------: |\n",
    "| `and` | `as` | `assert` |`break` |`class` |`continue` |\n",
    "|`def` |`del` |`elif` |`else` |`except` |`False` |\n",
    "|`finally` |`for` |`from` |`global` |`if` |`import` |\n",
    "|`in` |`is`|`lambda` |`None` |`nonlocal` |`not` |\n",
    "|`or` |`pass` |`raise` |`Return` |`True` |`try` |\n",
    "|`why` |`with` |`yield` |  |  |  |\n",
    "\n",
    "\n",
    "It is also in your best interest to create variable names that clearly indicate what it contains if it is more than a generic example (like used in this book) or experiment. This will make writing and reading code significantly easier and is a good habit to start early. In the examples below, a reader might be able to determine that the first example is calculating energy using $E = mc^2$ while it is more difficult to determine what the second example is calculating."
   ]
  },
  {
   "cell_type": "code",
   "metadata": {
    "ExecuteTime": {
     "end_time": "2025-01-14T13:54:32.294399Z",
     "start_time": "2025-01-14T13:54:32.292786Z"
    }
   },
   "source": [
    "# clear variables\n",
    "\n",
    "mass = 1.6\n",
    "light_speed = 3.0e8\n",
    "mass * light_speed**2"
   ],
   "outputs": [
    {
     "data": {
      "text/plain": [
       "1.44e+17"
      ]
     },
     "execution_count": 658,
     "metadata": {},
     "output_type": "execute_result"
    }
   ],
   "execution_count": 658
  },
  {
   "cell_type": "code",
   "metadata": {
    "ExecuteTime": {
     "end_time": "2025-01-14T13:54:32.306151Z",
     "start_time": "2025-01-14T13:54:32.304356Z"
    }
   },
   "source": [
    "# not-so-great variables\n",
    "\n",
    "x = 3.2\n",
    "a = 1.77\n",
    "a + x"
   ],
   "outputs": [
    {
     "data": {
      "text/plain": [
       "4.970000000000001"
      ]
     },
     "execution_count": 659,
     "metadata": {},
     "output_type": "execute_result"
    }
   ],
   "execution_count": 659
  },
  {
   "cell_type": "markdown",
   "metadata": {},
   "source": [
    "(1.2.2)=\n",
    "### 1.2.2 Compound Assignment\n",
    "\n",
    "A variable can be assigned to another variable as is shown below. When this happens, both variables are assigned to the same value, which is not particularly surprising."
   ]
  },
  {
   "cell_type": "code",
   "metadata": {
    "ExecuteTime": {
     "end_time": "2025-01-14T13:54:32.314780Z",
     "start_time": "2025-01-14T13:54:32.313491Z"
    }
   },
   "source": [
    "x = 5 \n",
    "y = x"
   ],
   "outputs": [],
   "execution_count": 660
  },
  {
   "cell_type": "code",
   "metadata": {
    "ExecuteTime": {
     "end_time": "2025-01-14T13:54:32.325626Z",
     "start_time": "2025-01-14T13:54:32.323897Z"
    }
   },
   "source": [
    "y"
   ],
   "outputs": [
    {
     "data": {
      "text/plain": [
       "5"
      ]
     },
     "execution_count": 661,
     "metadata": {},
     "output_type": "execute_result"
    }
   ],
   "execution_count": 661
  },
  {
   "cell_type": "markdown",
   "metadata": {},
   "source": [
    "However, watch what happens if the first variable, `x`, is then assigned to a new value."
   ]
  },
  {
   "cell_type": "code",
   "metadata": {
    "ExecuteTime": {
     "end_time": "2025-01-14T13:54:32.340250Z",
     "start_time": "2025-01-14T13:54:32.338670Z"
    }
   },
   "source": [
    "x = 8"
   ],
   "outputs": [],
   "execution_count": 662
  },
  {
   "cell_type": "code",
   "metadata": {
    "ExecuteTime": {
     "end_time": "2025-01-14T13:54:32.348448Z",
     "start_time": "2025-01-14T13:54:32.346889Z"
    }
   },
   "source": [
    "y"
   ],
   "outputs": [
    {
     "data": {
      "text/plain": [
       "5"
      ]
     },
     "execution_count": 663,
     "metadata": {},
     "output_type": "execute_result"
    }
   ],
   "execution_count": 663
  },
  {
   "cell_type": "markdown",
   "metadata": {},
   "source": [
    "Instead of `y` updating to the new value, it still contains the first value. This is because instead of `y` being assigned to `x`, the value 5 was assigned directly to `y`. Behind the scenes, Python handles assignment by making a pointer that connects a variable name to a value in the computer’s memory. Figure 1 illustrates what happens in the above example.\n",
    "\n",
    "![](img/variable_assignment.png)\n",
    "\n",
    "**Figure** 1 A representation of memory pointer during variable assignment is shown with the Python code (left) and the corresponding points (right).\n",
    "\n",
    "\n",
    "The `x` pointer is directed to a new values but the `y` pointer is still aimed at 5."
   ]
  },
  {
   "cell_type": "markdown",
   "metadata": {},
   "source": [
    "(1.3)=\n",
    "## 1.3 Strings\n",
    "\n",
    "```{index} strings\n",
    "```\n",
    "\n",
    "Floats and integers are means of storing numerical data. The other major type of data is text which is stored as a string of characters known simply as a *string*. Strings can contain a variety of characters including letters, numbers, and symbols and are identified by single or double quotes."
   ]
  },
  {
   "cell_type": "code",
   "metadata": {
    "ExecuteTime": {
     "end_time": "2025-01-14T13:54:32.361326Z",
     "start_time": "2025-01-14T13:54:32.359556Z"
    }
   },
   "source": [
    "'some text'"
   ],
   "outputs": [
    {
     "data": {
      "text/plain": [
       "'some text'"
      ]
     },
     "execution_count": 664,
     "metadata": {},
     "output_type": "execute_result"
    }
   ],
   "execution_count": 664
  },
  {
   "cell_type": "markdown",
   "metadata": {},
   "source": [
    "````{margin}\n",
    "```{Tip}\n",
    "Triple quotes can also be used to extend a string across multiple lines and are also used for the docstring in a newly defined function (see [section 1.9.5](1.9.5)).\n",
    "```\n",
    "````"
   ]
  },
  {
   "cell_type": "markdown",
   "metadata": {},
   "source": [
    "(1.3.1)=\n",
    "### 1.3.1 Creating a String\n",
    "\n",
    "The simplest way to create a string is to enclose the text in either single or double quotes, and a string can be assigned to variables just like floats and integers. To have Python print out the text, use the `print()` function."
   ]
  },
  {
   "cell_type": "code",
   "metadata": {
    "ExecuteTime": {
     "end_time": "2025-01-14T13:54:32.371857Z",
     "start_time": "2025-01-14T13:54:32.370665Z"
    }
   },
   "source": [
    "text = \"some text\""
   ],
   "outputs": [],
   "execution_count": 665
  },
  {
   "cell_type": "code",
   "metadata": {
    "ExecuteTime": {
     "end_time": "2025-01-14T13:54:32.385912Z",
     "start_time": "2025-01-14T13:54:32.384484Z"
    }
   },
   "source": [
    "print(text)"
   ],
   "outputs": [
    {
     "name": "stdout",
     "output_type": "stream",
     "text": [
      "some text\n"
     ]
    }
   ],
   "execution_count": 666
  },
  {
   "cell_type": "markdown",
   "metadata": {},
   "source": [
    "Strings can also be created by converting a float or integer into a string using the `str()` function."
   ]
  },
  {
   "cell_type": "code",
   "metadata": {
    "ExecuteTime": {
     "end_time": "2025-01-14T13:54:32.392119Z",
     "start_time": "2025-01-14T13:54:32.390538Z"
    }
   },
   "source": [
    "str(4)"
   ],
   "outputs": [
    {
     "data": {
      "text/plain": [
       "'4'"
      ]
     },
     "execution_count": 667,
     "metadata": {},
     "output_type": "execute_result"
    }
   ],
   "execution_count": 667
  },
  {
   "cell_type": "markdown",
   "metadata": {},
   "source": [
    "Even though a number can be contained in a string, Python will not perform mathematical operations with it because it sees anything in a string as a series of characters and nothing more. As can be seen below, in attempting to add '4' and '2', instead of doing mathematical addition, Python concatenates the two strings.  Similarly, in attempting to multiply '4' by 2, Python returns the string twice and concatenates them. These are ways of combining or lengthening strings, but no actual math is performed."
   ]
  },
  {
   "cell_type": "code",
   "metadata": {
    "ExecuteTime": {
     "end_time": "2025-01-14T13:54:32.405451Z",
     "start_time": "2025-01-14T13:54:32.403765Z"
    }
   },
   "source": [
    "'4' + '2'"
   ],
   "outputs": [
    {
     "data": {
      "text/plain": [
       "'42'"
      ]
     },
     "execution_count": 668,
     "metadata": {},
     "output_type": "execute_result"
    }
   ],
   "execution_count": 668
  },
  {
   "cell_type": "code",
   "metadata": {
    "ExecuteTime": {
     "end_time": "2025-01-14T13:54:32.413540Z",
     "start_time": "2025-01-14T13:54:32.411951Z"
    }
   },
   "source": [
    "'4' * 2"
   ],
   "outputs": [
    {
     "data": {
      "text/plain": [
       "'44'"
      ]
     },
     "execution_count": 669,
     "metadata": {},
     "output_type": "execute_result"
    }
   ],
   "execution_count": 669
  },
  {
   "cell_type": "markdown",
   "metadata": {},
   "source": [
    "If two strings are multiplied, Python returns an error. This is an issue commonly encountered when importing numerical data from a text document. The remedy is to convert the string(s) into numbers using either the `float()` or `int()` functions."
   ]
  },
  {
   "cell_type": "raw",
   "metadata": {},
   "source": [
    "'4' * '2'"
   ]
  },
  {
   "cell_type": "code",
   "metadata": {
    "ExecuteTime": {
     "end_time": "2025-01-14T13:54:32.424723Z",
     "start_time": "2025-01-14T13:54:32.423030Z"
    }
   },
   "source": [
    "int('4') * int('2')"
   ],
   "outputs": [
    {
     "data": {
      "text/plain": [
       "8"
      ]
     },
     "execution_count": 670,
     "metadata": {},
     "output_type": "execute_result"
    }
   ],
   "execution_count": 670
  },
  {
   "cell_type": "markdown",
   "metadata": {},
   "source": [
    "If we want to know the length of a string, we can use the `len()` function as shown below."
   ]
  },
  {
   "cell_type": "code",
   "metadata": {
    "ExecuteTime": {
     "end_time": "2025-01-14T13:54:32.433927Z",
     "start_time": "2025-01-14T13:54:32.432351Z"
    }
   },
   "source": [
    "len(text)"
   ],
   "outputs": [
    {
     "data": {
      "text/plain": [
       "9"
      ]
     },
     "execution_count": 671,
     "metadata": {},
     "output_type": "execute_result"
    }
   ],
   "execution_count": 671
  },
  {
   "cell_type": "markdown",
   "metadata": {},
   "source": [
    "The length of `'some text'` is 9 because a space is a valid character.\n",
    "\n",
    "To display both text and numbers in the same message, the `print()` function is very helpful. The user can either convert the number to a string and concatenate the two or separate each object by a comma. Notice in the former method, spaces need to be included by the user."
   ]
  },
  {
   "cell_type": "code",
   "metadata": {
    "ExecuteTime": {
     "end_time": "2025-01-14T13:54:32.445479Z",
     "start_time": "2025-01-14T13:54:32.444145Z"
    }
   },
   "source": [
    "print(str(4.0) + ' g')"
   ],
   "outputs": [
    {
     "name": "stdout",
     "output_type": "stream",
     "text": [
      "4.0 g\n"
     ]
    }
   ],
   "execution_count": 672
  },
  {
   "cell_type": "code",
   "metadata": {
    "ExecuteTime": {
     "end_time": "2025-01-14T13:54:32.458199Z",
     "start_time": "2025-01-14T13:54:32.456796Z"
    }
   },
   "source": [
    "print(4.0, 'g')"
   ],
   "outputs": [
    {
     "name": "stdout",
     "output_type": "stream",
     "text": [
      "4.0 g\n"
     ]
    }
   ],
   "execution_count": 673
  },
  {
   "cell_type": "markdown",
   "metadata": {},
   "source": [
    "(1.3.2)=\n",
    "### 1.3.2 Indexing & Slicing\n",
    "\n",
    "```{index} slicing\n",
    "```\n",
    "```{index} indexing\n",
    "```\n",
    "\n",
    "Accessing a piece or slice of a string is a common task in scientific computing among other applications. This is often encountered when importing data into Python from text files and only wanting a section of it. *Indexing* allows the user to access a single character in a string. For example, if a string contains the amino acid sequence of a peptide and we want to know the first amino acid, we can use indexing to extract this character. The key detail about indexing in Python is that **indicies start from zero**. That means the first character is index zero, the second character is index one, and so on. If we have a peptide sequence of 'MSLFKIRMPE', then the indices are as shown below. \n",
    "\n",
    "|          |   |   |   |   |   |   |   |   |   |   |\n",
    "| -----:   |:-:|:-:|:-:|:-:|:-:|:-:|:-:|:-:|:-:|:-:|\n",
    "|Characters| M | S | L | F | K | I | R | M | P | E | \n",
    "| Index    | 0 | 1 | 2 | 3 | 4 | 5 | 6 | 7 | 8 | 9 |\n",
    "\n",
    "To access a character, place the index in square brackets after the name of the string."
   ]
  },
  {
   "cell_type": "code",
   "metadata": {
    "ExecuteTime": {
     "end_time": "2025-01-14T13:54:32.469580Z",
     "start_time": "2025-01-14T13:54:32.468328Z"
    }
   },
   "source": [
    "seq = 'MSLFKIRMPE'"
   ],
   "outputs": [],
   "execution_count": 674
  },
  {
   "cell_type": "code",
   "metadata": {
    "ExecuteTime": {
     "end_time": "2025-01-14T13:54:32.480171Z",
     "start_time": "2025-01-14T13:54:32.478370Z"
    }
   },
   "source": [
    "seq[0]"
   ],
   "outputs": [
    {
     "data": {
      "text/plain": [
       "'M'"
      ]
     },
     "execution_count": 675,
     "metadata": {},
     "output_type": "execute_result"
    }
   ],
   "execution_count": 675
  },
  {
   "cell_type": "markdown",
   "metadata": {},
   "source": [
    "Interestingly, we do not have to use variables to do this; we could perform the same above operation directly on the string."
   ]
  },
  {
   "cell_type": "code",
   "metadata": {
    "ExecuteTime": {
     "end_time": "2025-01-14T13:54:32.493847Z",
     "start_time": "2025-01-14T13:54:32.492214Z"
    }
   },
   "source": [
    "'MSLFKIRMPE'[1]"
   ],
   "outputs": [
    {
     "data": {
      "text/plain": [
       "'S'"
      ]
     },
     "execution_count": 676,
     "metadata": {},
     "output_type": "execute_result"
    }
   ],
   "execution_count": 676
  },
  {
   "cell_type": "markdown",
   "metadata": {},
   "source": [
    "What happens if you want to know the last character of a string? One method is to determine the length of a string and use that to determine the index of the last character. "
   ]
  },
  {
   "cell_type": "code",
   "metadata": {
    "ExecuteTime": {
     "end_time": "2025-01-14T13:54:32.502038Z",
     "start_time": "2025-01-14T13:54:32.500508Z"
    }
   },
   "source": [
    "len(seq)"
   ],
   "outputs": [
    {
     "data": {
      "text/plain": [
       "10"
      ]
     },
     "execution_count": 677,
     "metadata": {},
     "output_type": "execute_result"
    }
   ],
   "execution_count": 677
  },
  {
   "cell_type": "code",
   "metadata": {
    "ExecuteTime": {
     "end_time": "2025-01-14T13:54:32.513553Z",
     "start_time": "2025-01-14T13:54:32.511881Z"
    }
   },
   "source": [
    "seq[9]"
   ],
   "outputs": [
    {
     "data": {
      "text/plain": [
       "'E'"
      ]
     },
     "execution_count": 678,
     "metadata": {},
     "output_type": "execute_result"
    }
   ],
   "execution_count": 678
  },
  {
   "cell_type": "markdown",
   "metadata": {},
   "source": [
    "The string can also be reverse indexed from the last charter to the first using negatives starting with -1 the last character.\n",
    "\n",
    "|          |   |   |   |   |   |   |   |   |   |   |\n",
    "| -----:   |:-:|:-:|:-:|:-:|:-:|:-:|:-:|:-:|:-:|:-:|\n",
    "|Characters| M | S | L | F | K | I | R | M | P | E | \n",
    "| Index    | -10 | -9 | -8 | -7 | -6 | -5 | -4 | -3 | -2 | -1 |"
   ]
  },
  {
   "cell_type": "code",
   "metadata": {
    "ExecuteTime": {
     "end_time": "2025-01-14T13:54:32.522886Z",
     "start_time": "2025-01-14T13:54:32.521390Z"
    }
   },
   "source": [
    "seq[-1]"
   ],
   "outputs": [
    {
     "data": {
      "text/plain": [
       "'E'"
      ]
     },
     "execution_count": 679,
     "metadata": {},
     "output_type": "execute_result"
    }
   ],
   "execution_count": 679
  },
  {
   "cell_type": "markdown",
   "metadata": {},
   "source": [
    "Indexing only provides a single character, but it is common to want a series of characters from a string. *Slicing* allows us to grab a section of the string. It uses the same index values as above except requires the start and stop indices separated by a colon in the square brackets. One important detail is that the character at the starting index is included in the slice while the character at the final index is excluded from the slice."
   ]
  },
  {
   "cell_type": "code",
   "metadata": {
    "ExecuteTime": {
     "end_time": "2025-01-14T13:54:32.534938Z",
     "start_time": "2025-01-14T13:54:32.533268Z"
    }
   },
   "source": [
    "seq[0:5]"
   ],
   "outputs": [
    {
     "data": {
      "text/plain": [
       "'MSLFK'"
      ]
     },
     "execution_count": 680,
     "metadata": {},
     "output_type": "execute_result"
    }
   ],
   "execution_count": 680
  },
  {
   "cell_type": "markdown",
   "metadata": {},
   "source": [
    "If you look at the index values for each letter, you will notice that the character at index `5` (`I`) is not included.\n",
    "\n",
    "What happens if you want to grab the last three characters of a string to determine the file extension (i.e., what type of file it is)? The fact that the last index is not included in the slice causes a problem as is shown below."
   ]
  },
  {
   "cell_type": "code",
   "metadata": {
    "ExecuteTime": {
     "end_time": "2025-01-14T13:54:32.549857Z",
     "start_time": "2025-01-14T13:54:32.548604Z"
    }
   },
   "source": [
    "file = '1rxt.pdb'"
   ],
   "outputs": [],
   "execution_count": 681
  },
  {
   "cell_type": "code",
   "metadata": {
    "ExecuteTime": {
     "end_time": "2025-01-14T13:54:32.563402Z",
     "start_time": "2025-01-14T13:54:32.561612Z"
    }
   },
   "source": [
    "file[-3:-1]"
   ],
   "outputs": [
    {
     "data": {
      "text/plain": [
       "'pd'"
      ]
     },
     "execution_count": 682,
     "metadata": {},
     "output_type": "execute_result"
    }
   ],
   "execution_count": 682
  },
  {
   "cell_type": "markdown",
   "metadata": {},
   "source": [
    "The way around this is to just leave the stop index blank. This tells Python to just go to the end."
   ]
  },
  {
   "cell_type": "code",
   "metadata": {
    "ExecuteTime": {
     "end_time": "2025-01-14T13:54:32.572388Z",
     "start_time": "2025-01-14T13:54:32.570647Z"
    }
   },
   "source": [
    "file[-3:]"
   ],
   "outputs": [
    {
     "data": {
      "text/plain": [
       "'pdb'"
      ]
     },
     "execution_count": 683,
     "metadata": {},
     "output_type": "execute_result"
    }
   ],
   "execution_count": 683
  },
  {
   "cell_type": "markdown",
   "metadata": {},
   "source": [
    "This trick also works for the start index to get the file name without the extension. Notice that the `-4` index is the period."
   ]
  },
  {
   "cell_type": "code",
   "metadata": {
    "ExecuteTime": {
     "end_time": "2025-01-14T13:54:32.590492Z",
     "start_time": "2025-01-14T13:54:32.588746Z"
    }
   },
   "source": [
    "file[:-4]"
   ],
   "outputs": [
    {
     "data": {
      "text/plain": [
       "'1rxt'"
      ]
     },
     "execution_count": 684,
     "metadata": {},
     "output_type": "execute_result"
    }
   ],
   "execution_count": 684
  },
  {
   "cell_type": "markdown",
   "metadata": {},
   "source": [
    "Finally, we can also adjust the step size in the slice. That is, we can ask for every other character in a string by setting a step size of 2. The overall structure is **\\[start : stop : step]**."
   ]
  },
  {
   "cell_type": "code",
   "metadata": {
    "ExecuteTime": {
     "end_time": "2025-01-14T13:54:32.599576Z",
     "start_time": "2025-01-14T13:54:32.597971Z"
    }
   },
   "source": [
    "seq[::2]"
   ],
   "outputs": [
    {
     "data": {
      "text/plain": [
       "'MLKRP'"
      ]
     },
     "execution_count": 685,
     "metadata": {},
     "output_type": "execute_result"
    }
   ],
   "execution_count": 685
  },
  {
   "cell_type": "markdown",
   "metadata": {},
   "source": [
    "(1.3.3)=\n",
    "### 1.3.3 String Methods\n",
    "\n",
    "```{index} method\n",
    "```\n",
    "\n",
    "A *method* is a function that works with a specific type of object. String methods only work on strings, and they do not work on other objects such as floats. Later on, you will see other objects like lists and NumPy arrays which have their own methods for performing common tasks with those types of objects. If it makes it any easier, feel free to equate the term “method” with “function” in your mind, but know that there is a bit more to methods.\n",
    " \n",
    "One example of a string method is the `capitalize()` function which returns a string with the first letter capitalized.  Using a string method is referred to as *calling* the method... it is computer science lingo for executing a function. The method is called by appending `.capitalize()` to the string or a variable representing the string. For example, below is an Albert Einstein quote that needs to have the first letter capitalized."
   ]
  },
  {
   "cell_type": "code",
   "metadata": {
    "ExecuteTime": {
     "end_time": "2025-01-14T13:54:32.609398Z",
     "start_time": "2025-01-14T13:54:32.608095Z"
    }
   },
   "source": [
    "quote = 'anyone who has never made a mistake has never tried anything new.'"
   ],
   "outputs": [],
   "execution_count": 686
  },
  {
   "cell_type": "code",
   "metadata": {
    "ExecuteTime": {
     "end_time": "2025-01-14T13:54:32.620165Z",
     "start_time": "2025-01-14T13:54:32.618560Z"
    }
   },
   "source": [
    "quote.capitalize()"
   ],
   "outputs": [
    {
     "data": {
      "text/plain": [
       "'Anyone who has never made a mistake has never tried anything new.'"
      ]
     },
     "execution_count": 687,
     "metadata": {},
     "output_type": "execute_result"
    }
   ],
   "execution_count": 687
  },
  {
   "cell_type": "markdown",
   "metadata": {},
   "source": [
    "Notice that if we check the original quote, it is unchanged (below). This method does not change the original string but rather returns a copy with the first letter capitalized. If we want to save the capitalized version, we can assign it to a new variable or overwrite the original."
   ]
  },
  {
   "cell_type": "code",
   "metadata": {
    "ExecuteTime": {
     "end_time": "2025-01-14T13:54:32.626779Z",
     "start_time": "2025-01-14T13:54:32.625260Z"
    }
   },
   "source": [
    "quote"
   ],
   "outputs": [
    {
     "data": {
      "text/plain": [
       "'anyone who has never made a mistake has never tried anything new.'"
      ]
     },
     "execution_count": 688,
     "metadata": {},
     "output_type": "execute_result"
    }
   ],
   "execution_count": 688
  },
  {
   "cell_type": "code",
   "metadata": {
    "ExecuteTime": {
     "end_time": "2025-01-14T13:54:32.636787Z",
     "start_time": "2025-01-14T13:54:32.635463Z"
    }
   },
   "source": [
    "cap_quote = quote.capitalize()"
   ],
   "outputs": [],
   "execution_count": 689
  },
  {
   "cell_type": "code",
   "metadata": {
    "ExecuteTime": {
     "end_time": "2025-01-14T13:54:32.645348Z",
     "start_time": "2025-01-14T13:54:32.643685Z"
    }
   },
   "source": [
    "cap_quote"
   ],
   "outputs": [
    {
     "data": {
      "text/plain": [
       "'Anyone who has never made a mistake has never tried anything new.'"
      ]
     },
     "execution_count": 690,
     "metadata": {},
     "output_type": "execute_result"
    }
   ],
   "execution_count": 690
  },
  {
   "cell_type": "markdown",
   "metadata": {},
   "source": [
    "As a minor note, string methods can also be called with `str.method(string)` with `method` being the name of the string method and `string` being the string or string variable. While this works, it is used less often. The first approach with `string.method()` is preferred because any string method needs a string to act upon, so many people find it logical that a string should start the function call. It is also shorter to type, which is certainly a virtue."
   ]
  },
  {
   "cell_type": "code",
   "metadata": {
    "ExecuteTime": {
     "end_time": "2025-01-14T13:54:32.657280Z",
     "start_time": "2025-01-14T13:54:32.655664Z"
    }
   },
   "source": [
    "str.isalpha(quote)"
   ],
   "outputs": [
    {
     "data": {
      "text/plain": [
       "False"
      ]
     },
     "execution_count": 691,
     "metadata": {},
     "output_type": "execute_result"
    }
   ],
   "execution_count": 691
  },
  {
   "cell_type": "code",
   "metadata": {
    "ExecuteTime": {
     "end_time": "2025-01-14T13:54:32.668931Z",
     "start_time": "2025-01-14T13:54:32.667264Z"
    }
   },
   "source": [
    "str.capitalize(quote)"
   ],
   "outputs": [
    {
     "data": {
      "text/plain": [
       "'Anyone who has never made a mistake has never tried anything new.'"
      ]
     },
     "execution_count": 692,
     "metadata": {},
     "output_type": "execute_result"
    }
   ],
   "execution_count": 692
  },
  {
   "cell_type": "markdown",
   "metadata": {},
   "source": [
    "Below are a few common string methods you may find useful.\n",
    "\n",
    "**Table 5** Common String Methods\n",
    "\n",
    "| Method | Description |\n",
    "| :---:  | :---------  |\n",
    "|`capitalize()` | Capitalizes the first letter in the string |\n",
    "|`center(width)` | Returns the string centered with spaces on both sides to have a requested total width |\n",
    "|`count(charters)`|  Returns the number of non-overlapping occurrences of a series of characters |\n",
    "|`find(characters)` | Returns the index of the first occurrence of `characters` in a string |\n",
    "|`isalnum()` | Determines whether a string is all alphanumeric characters and returns `True` or `False` |\n",
    "|`isalpha()` | Determines whether a string is all letters and returns `True` or `False` |\n",
    "|`isdigit()` | Determines whether a string is all numbers and returns `True` or `False` |\n",
    "|`lstrip(characters)` | Returns a string with the leading `characters` removed; if no `characters` are given, it removes spaces|\n",
    "|`rstrip(characters)` | Returns a string with the trailing `characters` removed; if no `characters` are given, it removes  spaces |\n",
    "|`split(sep=None)` | Splits a string apart based on a separator; if `sep=None`, it defaults to white spaces |\n",
    "|`startswith(prefix)` | Determines if the string starts with a `prefix` and returns `True` or `False` |\n",
    "|`endswith(suffix)` | Determines if the string ends with a `suffix` and returns `True` or `False` |\n"
   ]
  },
  {
   "cell_type": "markdown",
   "metadata": {
    "tags": []
   },
   "source": [
    "(1.3.4)=\n",
    "### 1.3.4 String Formatting\n",
    "\n",
    "In [section 1.3.1](1.3.1), we were able to concatenate two strings by using the `+` operator as shown below. With this approach, it is neccesary to convert any non-string into a string using the `str()` function."
   ]
  },
  {
   "cell_type": "code",
   "metadata": {
    "ExecuteTime": {
     "end_time": "2025-01-14T13:54:32.680492Z",
     "start_time": "2025-01-14T13:54:32.678692Z"
    }
   },
   "source": [
    "MW = 63.21\n",
    "\"Molar mass = \" + str(MW) + \" g/mol.\""
   ],
   "outputs": [
    {
     "data": {
      "text/plain": [
       "'Molar mass = 63.21 g/mol.'"
      ]
     },
     "execution_count": 693,
     "metadata": {},
     "output_type": "execute_result"
    }
   ],
   "execution_count": 693
  },
  {
   "cell_type": "markdown",
   "metadata": {},
   "source": [
    "While this approach usually works fine, it can get messy or unwieldly as you are combining more strings. In this section, we will cover a couple other methods for merging strings. Which you choose to use is a matter of personal preference, but it is good to be aware of them as you may see them around.\n",
    "\n",
    "#### `str.format()` Method\n",
    "\n",
    "The first method we will address is using the `str.format()` method. In this approach, the string (i.e., `str`) includes curly brackets `{}` where you want to insert additional strings, and these additional strings are provided as arguments in the `str.format()` function. As an example, below we are generating a sentence providing the name and molecular weight of a compound. Notice how `compound` is inserted in the sentence where the first `{}` is located while `MW` is inserted in the location of the second `{}`."
   ]
  },
  {
   "cell_type": "code",
   "metadata": {
    "ExecuteTime": {
     "end_time": "2025-01-14T13:54:32.692787Z",
     "start_time": "2025-01-14T13:54:32.691059Z"
    }
   },
   "source": [
    "compound = 'ammonia'\n",
    "MW = 17.03\n",
    "\n",
    "'The molar mass of {} is {} g/mol.'.format(compound, MW)"
   ],
   "outputs": [
    {
     "data": {
      "text/plain": [
       "'The molar mass of ammonia is 17.03 g/mol.'"
      ]
     },
     "execution_count": 694,
     "metadata": {},
     "output_type": "execute_result"
    }
   ],
   "execution_count": 694
  },
  {
   "cell_type": "markdown",
   "metadata": {},
   "source": [
    "If we assign the `compound` and `MW` varible to other values, the `str.format()` function dutifully inserts these new strings into our sentence. Also notice that the `format()` function automatically converts non-string objects into strings for us."
   ]
  },
  {
   "cell_type": "code",
   "metadata": {
    "ExecuteTime": {
     "end_time": "2025-01-14T13:54:32.706417Z",
     "start_time": "2025-01-14T13:54:32.704563Z"
    }
   },
   "source": [
    "compound = 'urea'\n",
    "MW = 60.06\n",
    "\n",
    "'The molar mass of {} is {} g/mol.'.format(compound, MW)"
   ],
   "outputs": [
    {
     "data": {
      "text/plain": [
       "'The molar mass of urea is 60.06 g/mol.'"
      ]
     },
     "execution_count": 695,
     "metadata": {},
     "output_type": "execute_result"
    }
   ],
   "execution_count": 695
  },
  {
   "cell_type": "markdown",
   "metadata": {},
   "source": [
    "A variation of the above approach is to include an index value inside the curly brackets indicating which string provided to the `str.format()` function is inserted where in the sentence. In the example below, `compound` is provided to the `str.format()` function first, so it replaces `{0}` while `MW` is second, so it replaces `{1}`. Remember that Python index values start with zero."
   ]
  },
  {
   "cell_type": "code",
   "metadata": {
    "ExecuteTime": {
     "end_time": "2025-01-14T13:54:32.718335Z",
     "start_time": "2025-01-14T13:54:32.716528Z"
    }
   },
   "source": [
    "compound = 'urea'\n",
    "MW = 60.06\n",
    "\n",
    "'The molar mass of {0} is {1} g/mol.'.format(compound, MW)"
   ],
   "outputs": [
    {
     "data": {
      "text/plain": [
       "'The molar mass of urea is 60.06 g/mol.'"
      ]
     },
     "execution_count": 696,
     "metadata": {},
     "output_type": "execute_result"
    }
   ],
   "execution_count": 696
  },
  {
   "cell_type": "markdown",
   "metadata": {},
   "source": [
    "Because we are explicitly providing index values, we can insert strings into the setence in any order. Notice in the example below that the `MW` and `compound` variables are provided to the function in a different order."
   ]
  },
  {
   "cell_type": "code",
   "metadata": {
    "ExecuteTime": {
     "end_time": "2025-01-14T13:54:32.729451Z",
     "start_time": "2025-01-14T13:54:32.727891Z"
    }
   },
   "source": [
    "'The molar mass of {1} is {0} g/mol.'.format(MW, compound)"
   ],
   "outputs": [
    {
     "data": {
      "text/plain": [
       "'The molar mass of urea is 60.06 g/mol.'"
      ]
     },
     "execution_count": 697,
     "metadata": {},
     "output_type": "execute_result"
    }
   ],
   "execution_count": 697
  },
  {
   "cell_type": "markdown",
   "metadata": {},
   "source": [
    "We can also insert strings into our sentence multiple times as shown below."
   ]
  },
  {
   "cell_type": "code",
   "metadata": {
    "ExecuteTime": {
     "end_time": "2025-01-14T13:54:32.741505Z",
     "start_time": "2025-01-14T13:54:32.739753Z"
    }
   },
   "source": [
    "'The compound {0} is a molecular compound \\\n",
    "and {0} has a molar mass of {1} g/mol.'.format(compound, MW)"
   ],
   "outputs": [
    {
     "data": {
      "text/plain": [
       "'The compound urea is a molecular compound and urea has a molar mass of 60.06 g/mol.'"
      ]
     },
     "execution_count": 698,
     "metadata": {},
     "output_type": "execute_result"
    }
   ],
   "execution_count": 698
  },
  {
   "cell_type": "markdown",
   "metadata": {
    "tags": []
   },
   "source": [
    "#### F-Strings\n",
    "\n",
    "The next approach to combining strings is using *f-strings*. In this approach, the string is preceeded with `f`, and any inserted strings are denonted using `{}` with the variable name inside the curly brackets as demonstrated below. The appeal of this approach is that it is simple, versitile, and relatively easy to follw."
   ]
  },
  {
   "cell_type": "code",
   "metadata": {
    "ExecuteTime": {
     "end_time": "2025-01-14T13:54:32.754940Z",
     "start_time": "2025-01-14T13:54:32.753106Z"
    }
   },
   "source": [
    "f'The molar mass of {compound} is {MW} g/mol.'"
   ],
   "outputs": [
    {
     "data": {
      "text/plain": [
       "'The molar mass of urea is 60.06 g/mol.'"
      ]
     },
     "execution_count": 699,
     "metadata": {},
     "output_type": "execute_result"
    }
   ],
   "execution_count": 699
  },
  {
   "cell_type": "markdown",
   "metadata": {},
   "source": [
    "We can also modify the strings by placing additional Python code inside the brackets like below where the first letter of the compound is capitalized."
   ]
  },
  {
   "cell_type": "code",
   "metadata": {
    "ExecuteTime": {
     "end_time": "2025-01-14T13:54:32.768887Z",
     "start_time": "2025-01-14T13:54:32.767067Z"
    }
   },
   "source": [
    "f'The molar mass of {compound.capitalize()} is {MW} g/mol.'"
   ],
   "outputs": [
    {
     "data": {
      "text/plain": [
       "'The molar mass of Urea is 60.06 g/mol.'"
      ]
     },
     "execution_count": 700,
     "metadata": {},
     "output_type": "execute_result"
    }
   ],
   "execution_count": 700
  },
  {
   "cell_type": "markdown",
   "metadata": {},
   "source": [
    "(1.4)=\n",
    "## 1.4 Boolean Logic\n",
    "\n",
    "```{index} boolean logic\n",
    "```\n",
    "\n",
    "Python supports *Boolean logic* where all expressions are evaluated as either `True` or `False`. These are useful for adding conditions to scripts. For example, if you are writing code to determine if a sample is a neutral pH, you will want to test if the pH equals 7. If the `pH == 7` evaluates as `True`, the sample is neutral, and if this statement is `False`, the sample is not neutral.\n",
    "\n",
    "(1.4.1)=\n",
    "### 1.4.1 Boolean Basics\n",
    "\n",
    "There are a number of Boolean operators available in Python with the most common summarized in Table 6. These operators are essentially truth tests with Python returning either `True` or `False`. Many of them work as one would expect. For example, if `8` is tested for equality with `3`, a `False` is returned. Note that the operator for equals is a double equal signs, whereas a single equal sign assigns a value to a variable.\n",
    "\n",
    "````{margin}\n",
    "```{note}\n",
    "`True` and `False` are always capitalized in Python.\n",
    "```\n",
    "````"
   ]
  },
  {
   "cell_type": "code",
   "metadata": {
    "ExecuteTime": {
     "end_time": "2025-01-14T13:54:32.781228Z",
     "start_time": "2025-01-14T13:54:32.779484Z"
    }
   },
   "source": [
    "8 == 3"
   ],
   "outputs": [
    {
     "data": {
      "text/plain": [
       "False"
      ]
     },
     "execution_count": 701,
     "metadata": {},
     "output_type": "execute_result"
    }
   ],
   "execution_count": 701
  },
  {
   "cell_type": "markdown",
   "metadata": {},
   "source": [
    "**Table 6** Basic Boolean Comparison Operators\n",
    "\n",
    "| Operator | Description |\n",
    "|:-------: | :--------   |\n",
    "|`==` | Equal (double equal sign) |\n",
    "|`!=` | Not equal |\n",
    "|`<=` | Less than or equal |\n",
    "|`>=` | Greater than or equal |\n",
    "|`<`  | Less than |\n",
    "|`>`  | Greater than |\n",
    "|`is` | Identity |\n",
    "|`is not` | Negative identity |\n",
    "\n",
    "The `is` and `is not` Boolean operators are not as intuitive. These two operators test to see if two objects are the *same thing* (i.e., identity) or *not the same thing*, respectively. For example, if we test 8 and 8.0 for equality, the result is True because they are the same quantity. However, if we test for identity, the result is `False` because 8 is an integer and 8.0 is a float."
   ]
  },
  {
   "cell_type": "code",
   "metadata": {
    "ExecuteTime": {
     "end_time": "2025-01-14T13:54:32.794375Z",
     "start_time": "2025-01-14T13:54:32.792443Z"
    }
   },
   "source": [
    "8 > 3"
   ],
   "outputs": [
    {
     "data": {
      "text/plain": [
       "True"
      ]
     },
     "execution_count": 702,
     "metadata": {},
     "output_type": "execute_result"
    }
   ],
   "execution_count": 702
  },
  {
   "cell_type": "code",
   "metadata": {
    "ExecuteTime": {
     "end_time": "2025-01-14T13:54:32.806499Z",
     "start_time": "2025-01-14T13:54:32.804828Z"
    }
   },
   "source": [
    "8 == 8.0"
   ],
   "outputs": [
    {
     "data": {
      "text/plain": [
       "True"
      ]
     },
     "execution_count": 703,
     "metadata": {},
     "output_type": "execute_result"
    }
   ],
   "execution_count": 703
  },
  {
   "cell_type": "code",
   "metadata": {
    "editable": true,
    "slideshow": {
     "slide_type": ""
    },
    "tags": [
     "raises-exception"
    ],
    "ExecuteTime": {
     "end_time": "2025-01-14T13:54:32.819192Z",
     "start_time": "2025-01-14T13:54:32.817446Z"
    }
   },
   "source": [
    "8 is 8.0"
   ],
   "outputs": [
    {
     "name": "stderr",
     "output_type": "stream",
     "text": [
      "<>:1: SyntaxWarning: \"is\" with 'int' literal. Did you mean \"==\"?\n",
      "<>:1: SyntaxWarning: \"is\" with 'int' literal. Did you mean \"==\"?\n",
      "/var/folders/bk/s9lxqhjj0_g7f585_pvyfk2w0000gn/T/ipykernel_48620/1842833108.py:1: SyntaxWarning: \"is\" with 'int' literal. Did you mean \"==\"?\n",
      "  8 is 8.0\n"
     ]
    },
    {
     "data": {
      "text/plain": [
       "False"
      ]
     },
     "execution_count": 704,
     "metadata": {},
     "output_type": "execute_result"
    }
   ],
   "execution_count": 704
  },
  {
   "cell_type": "markdown",
   "metadata": {},
   "source": [
    "In the last example, Python generates a warning because the user probably meant to use `==` instead of `is`."
   ]
  },
  {
   "cell_type": "markdown",
   "metadata": {},
   "source": [
    "(1.4.2)=\n",
    "### 1.4.2 Compound Comparisons\n",
    "\n",
    "Comparisons can be concatenated together with Boolean logic operators to make compound comparisons. Common Boolean logic operators are shown in Table 7. \n",
    "\n",
    "**Table 7** Common Boolean Logic Operators\n",
    "\n",
    "| Operator | Description |\n",
    "|:-------: | :---------  |\n",
    "|`and` | Tests for both being `True` |\n",
    "|`or`  | Tests for either being `True` |\n",
    "|`not` | Tests for `False` |\n",
    "\n",
    "The `and` operator requires both input values to be `True` in order to return `True` while the `or` operator requires only one input value to be `True` in order to evaluate as `True`. The `not` operator is different in that it only takes a single input value and returns `True` if and only if the input value is `False`. It is essentially a test for `False`."
   ]
  },
  {
   "cell_type": "code",
   "metadata": {
    "ExecuteTime": {
     "end_time": "2025-01-14T13:54:32.831309Z",
     "start_time": "2025-01-14T13:54:32.829552Z"
    }
   },
   "source": [
    "True and False"
   ],
   "outputs": [
    {
     "data": {
      "text/plain": [
       "False"
      ]
     },
     "execution_count": 705,
     "metadata": {},
     "output_type": "execute_result"
    }
   ],
   "execution_count": 705
  },
  {
   "cell_type": "code",
   "metadata": {
    "ExecuteTime": {
     "end_time": "2025-01-14T13:54:32.842692Z",
     "start_time": "2025-01-14T13:54:32.841052Z"
    }
   },
   "source": [
    "True or False"
   ],
   "outputs": [
    {
     "data": {
      "text/plain": [
       "True"
      ]
     },
     "execution_count": 706,
     "metadata": {},
     "output_type": "execute_result"
    }
   ],
   "execution_count": 706
  },
  {
   "cell_type": "code",
   "metadata": {
    "ExecuteTime": {
     "end_time": "2025-01-14T13:54:32.854161Z",
     "start_time": "2025-01-14T13:54:32.852560Z"
    }
   },
   "source": [
    "8 > 3 or 8 < 2"
   ],
   "outputs": [
    {
     "data": {
      "text/plain": [
       "True"
      ]
     },
     "execution_count": 707,
     "metadata": {},
     "output_type": "execute_result"
    }
   ],
   "execution_count": 707
  },
  {
   "cell_type": "code",
   "metadata": {
    "ExecuteTime": {
     "end_time": "2025-01-14T13:54:32.865748Z",
     "start_time": "2025-01-14T13:54:32.864179Z"
    }
   },
   "source": [
    "not 8 > 3"
   ],
   "outputs": [
    {
     "data": {
      "text/plain": [
       "False"
      ]
     },
     "execution_count": 708,
     "metadata": {},
     "output_type": "execute_result"
    }
   ],
   "execution_count": 708
  },
  {
   "cell_type": "markdown",
   "metadata": {},
   "source": [
    "Truth tables for the three common Boolean logic operators are shown below. Boolean logic by itself is not immensely useful, but when paired with conditions (introduced below), it is a powerful tool in programming and data analysis.\n",
    "\n",
    "**Table 8** Truth Table for the `and`/`or` Logic Operators\n",
    "\n",
    "| `p` | `q` |`p and q` | `p or q` |\n",
    "|:--:| :--: | :--: | :--: |\n",
    "|`True` | `True` | `True` | `True` |\n",
    "|`True` | `False` | `False` | `True` |\n",
    "|`False` | `True` | `False` | `True` |\n",
    "|`False` | `False` | `False` | `False` |\n",
    "\n",
    "\n",
    "**Table 9** Truth Table for the `not` Logic Operator\n",
    "\n",
    "| `p` | `p not q` |\n",
    "|:---:| :-------: |\n",
    "|`True` | `False` |\n",
    "|`False` | `True` |\n"
   ]
  },
  {
   "cell_type": "markdown",
   "metadata": {},
   "source": [
    "(1.4.3)=\n",
    "### 1.4.3 Alternative Truth Representations\n",
    "\n",
    "The values `1` and `0` can also be used in place of `True` and `False`, respectively, as Python recognizes them as surrogates. For Python to know that you mean these values as Booleans and not simply integers, Python sometimes requires the `bool()` function."
   ]
  },
  {
   "cell_type": "code",
   "metadata": {
    "ExecuteTime": {
     "end_time": "2025-01-14T13:54:32.878782Z",
     "start_time": "2025-01-14T13:54:32.877192Z"
    }
   },
   "source": [
    "bool(1)"
   ],
   "outputs": [
    {
     "data": {
      "text/plain": [
       "True"
      ]
     },
     "execution_count": 709,
     "metadata": {},
     "output_type": "execute_result"
    }
   ],
   "execution_count": 709
  },
  {
   "cell_type": "code",
   "metadata": {
    "ExecuteTime": {
     "end_time": "2025-01-14T13:54:32.890472Z",
     "start_time": "2025-01-14T13:54:32.888868Z"
    }
   },
   "source": [
    "bool(0)"
   ],
   "outputs": [
    {
     "data": {
      "text/plain": [
       "False"
      ]
     },
     "execution_count": 710,
     "metadata": {},
     "output_type": "execute_result"
    }
   ],
   "execution_count": 710
  },
  {
   "cell_type": "markdown",
   "metadata": {},
   "source": [
    "Python also accepts any non-zero value as `True`."
   ]
  },
  {
   "cell_type": "code",
   "metadata": {
    "ExecuteTime": {
     "end_time": "2025-01-14T13:54:32.902487Z",
     "start_time": "2025-01-14T13:54:32.900641Z"
    }
   },
   "source": [
    "bool(5)"
   ],
   "outputs": [
    {
     "data": {
      "text/plain": [
       "True"
      ]
     },
     "execution_count": 711,
     "metadata": {},
     "output_type": "execute_result"
    }
   ],
   "execution_count": 711
  },
  {
   "cell_type": "markdown",
   "metadata": {},
   "source": [
    "You can perform some of the above Boolean operations from [section 1.4.2](1.4.2) with `1` and `0`, but Python will return the result in terms of `1` and `0`."
   ]
  },
  {
   "cell_type": "code",
   "metadata": {
    "ExecuteTime": {
     "end_time": "2025-01-14T13:54:32.914630Z",
     "start_time": "2025-01-14T13:54:32.912943Z"
    }
   },
   "source": [
    "1 or 0"
   ],
   "outputs": [
    {
     "data": {
      "text/plain": [
       "1"
      ]
     },
     "execution_count": 712,
     "metadata": {},
     "output_type": "execute_result"
    }
   ],
   "execution_count": 712
  },
  {
   "cell_type": "code",
   "metadata": {
    "ExecuteTime": {
     "end_time": "2025-01-14T13:54:32.926701Z",
     "start_time": "2025-01-14T13:54:32.925037Z"
    }
   },
   "source": [
    "1 and 0"
   ],
   "outputs": [
    {
     "data": {
      "text/plain": [
       "0"
      ]
     },
     "execution_count": 713,
     "metadata": {},
     "output_type": "execute_result"
    }
   ],
   "execution_count": 713
  },
  {
   "cell_type": "markdown",
   "metadata": {},
   "source": [
    "(1.4.4)=\n",
    "### 1.4.4 `any()` & `all()`\n",
    "\n",
    "It is sometimes helpful to test if any or all values test `True` in a list or tuple (covered in [section 1.6](1.6)). The `any()` and `all()` functions do exactly this. The former will return `True` if one or more of the values in the object test `True` while the latter will only evaluate as `True` only if all values are `True`."
   ]
  },
  {
   "cell_type": "code",
   "metadata": {
    "ExecuteTime": {
     "end_time": "2025-01-14T13:54:32.938641Z",
     "start_time": "2025-01-14T13:54:32.936900Z"
    }
   },
   "source": [
    "any([True, True, False])"
   ],
   "outputs": [
    {
     "data": {
      "text/plain": [
       "True"
      ]
     },
     "execution_count": 714,
     "metadata": {},
     "output_type": "execute_result"
    }
   ],
   "execution_count": 714
  },
  {
   "cell_type": "code",
   "metadata": {
    "ExecuteTime": {
     "end_time": "2025-01-14T13:54:32.949930Z",
     "start_time": "2025-01-14T13:54:32.948254Z"
    }
   },
   "source": [
    "all([True, True, False])"
   ],
   "outputs": [
    {
     "data": {
      "text/plain": [
       "False"
      ]
     },
     "execution_count": 715,
     "metadata": {},
     "output_type": "execute_result"
    }
   ],
   "execution_count": 715
  },
  {
   "cell_type": "code",
   "metadata": {
    "ExecuteTime": {
     "end_time": "2025-01-14T13:54:32.961240Z",
     "start_time": "2025-01-14T13:54:32.959604Z"
    }
   },
   "source": [
    "all([True, True, True])"
   ],
   "outputs": [
    {
     "data": {
      "text/plain": [
       "True"
      ]
     },
     "execution_count": 716,
     "metadata": {},
     "output_type": "execute_result"
    }
   ],
   "execution_count": 716
  },
  {
   "cell_type": "markdown",
   "metadata": {},
   "source": [
    "When fed numbers, both the `any()` and `all()` functions will treat them as Booleans as described in [section 1.4.3](1.4.3)."
   ]
  },
  {
   "cell_type": "code",
   "metadata": {
    "ExecuteTime": {
     "end_time": "2025-01-14T13:54:32.972874Z",
     "start_time": "2025-01-14T13:54:32.971141Z"
    }
   },
   "source": [
    "any([0, 1, 0])"
   ],
   "outputs": [
    {
     "data": {
      "text/plain": [
       "True"
      ]
     },
     "execution_count": 717,
     "metadata": {},
     "output_type": "execute_result"
    }
   ],
   "execution_count": 717
  },
  {
   "cell_type": "markdown",
   "metadata": {},
   "source": [
    "(1.4.5)=\n",
    "### 1.4.5 Test for Inclusion\n",
    "\n",
    "Python allows for the testing of *inclusion* using the `in` operator. Let us say we want to test if there is nickel in a provided molecular formula. We can simply test to see if “Ni” is in the formula."
   ]
  },
  {
   "cell_type": "code",
   "metadata": {
    "ExecuteTime": {
     "end_time": "2025-01-14T13:54:32.983853Z",
     "start_time": "2025-01-14T13:54:32.982593Z"
    }
   },
   "source": [
    "comp1 = 'Co(NH3)6'\n",
    "comp2 = 'Ni(H2O)6'"
   ],
   "outputs": [],
   "execution_count": 718
  },
  {
   "cell_type": "code",
   "metadata": {
    "ExecuteTime": {
     "end_time": "2025-01-14T13:54:32.994952Z",
     "start_time": "2025-01-14T13:54:32.993233Z"
    }
   },
   "source": [
    "'Ni' in comp1"
   ],
   "outputs": [
    {
     "data": {
      "text/plain": [
       "False"
      ]
     },
     "execution_count": 719,
     "metadata": {},
     "output_type": "execute_result"
    }
   ],
   "execution_count": 719
  },
  {
   "cell_type": "code",
   "metadata": {
    "ExecuteTime": {
     "end_time": "2025-01-14T13:54:33.006458Z",
     "start_time": "2025-01-14T13:54:33.004592Z"
    }
   },
   "source": [
    "'Ni' in comp2"
   ],
   "outputs": [
    {
     "data": {
      "text/plain": [
       "True"
      ]
     },
     "execution_count": 720,
     "metadata": {},
     "output_type": "execute_result"
    }
   ],
   "execution_count": 720
  },
  {
   "cell_type": "markdown",
   "metadata": {},
   "source": [
    "The `in` operator also works for other objects beyond strings including lists and tuples which you will learn about in [section 1.6](1.6)."
   ]
  },
  {
   "cell_type": "markdown",
   "metadata": {},
   "source": [
    "(1.5)=\n",
    "## 1.5 Conditions\n",
    "\n",
    "```{index} conditions\n",
    "```\n",
    "\n",
    "*Conditions* allow for the user to specify if and when certain lines or blocks of code are executed. Specifically, when a condition is true, the block of indented code directly below runs. In the example below, if pH is greater than 7, the code prints out the statements “The solution is basic” and “Neutralize with acid.”\n",
    "\n",
    "~~~python\n",
    "if pH > 7:\n",
    "    print('The solution is basic.')\n",
    "    print('Neutralize with acid.')\n",
    "~~~\n",
    "\n",
    "(1.5.1)=\n",
    "### 1.5.1 `if` Statements\n",
    "\n",
    "The `if` statement is a powerful way to control when a block of code is run. It is structured as shown below with the `if` statement ending in a colon and the block of code below indented by **four spaces**. In the Jupyter notebook, hitting the **Tab** key will also generate four spaces."
   ]
  },
  {
   "cell_type": "code",
   "metadata": {
    "ExecuteTime": {
     "end_time": "2025-01-14T13:54:33.019858Z",
     "start_time": "2025-01-14T13:54:33.018713Z"
    }
   },
   "source": [
    "x = 7"
   ],
   "outputs": [],
   "execution_count": 721
  },
  {
   "cell_type": "code",
   "metadata": {
    "ExecuteTime": {
     "end_time": "2025-01-14T13:54:33.031316Z",
     "start_time": "2025-01-14T13:54:33.029539Z"
    }
   },
   "source": [
    "if x > 5:\n",
    "    y = x **2\n",
    "    print(y)"
   ],
   "outputs": [
    {
     "name": "stdout",
     "output_type": "stream",
     "text": [
      "49\n"
     ]
    }
   ],
   "execution_count": 722
  },
  {
   "cell_type": "markdown",
   "metadata": {},
   "source": [
    "If the Boolean statement is `True` at the top of the `if` statement, the code indented below will be run. If the statement is `False`, Python skips the indented code as shown below."
   ]
  },
  {
   "cell_type": "code",
   "metadata": {
    "ExecuteTime": {
     "end_time": "2025-01-14T13:54:33.042254Z",
     "start_time": "2025-01-14T13:54:33.040997Z"
    }
   },
   "source": [
    "x = 3"
   ],
   "outputs": [],
   "execution_count": 723
  },
  {
   "cell_type": "code",
   "metadata": {
    "ExecuteTime": {
     "end_time": "2025-01-14T13:54:33.048718Z",
     "start_time": "2025-01-14T13:54:33.047413Z"
    }
   },
   "source": [
    "if x > 5:\n",
    "    y = x **2\n",
    "    print(y)"
   ],
   "outputs": [],
   "execution_count": 724
  },
  {
   "cell_type": "markdown",
   "metadata": {},
   "source": [
    "Nothing is printed or returned in this code because `x` is not greater than 5."
   ]
  },
  {
   "cell_type": "markdown",
   "metadata": {},
   "source": [
    "(1.5.2)=\n",
    "### 1.5.2 `else` Statements\n",
    "\n",
    "There are times when there is an alternative block of code that you will want to be run when the `if` statement evaluates as `False`. This is accomplished using the `else` statement as shown below."
   ]
  },
  {
   "cell_type": "code",
   "metadata": {
    "ExecuteTime": {
     "end_time": "2025-01-14T13:54:33.053775Z",
     "start_time": "2025-01-14T13:54:33.052611Z"
    }
   },
   "source": [
    "pH = 9"
   ],
   "outputs": [],
   "execution_count": 725
  },
  {
   "cell_type": "code",
   "metadata": {
    "ExecuteTime": {
     "end_time": "2025-01-14T13:54:33.059235Z",
     "start_time": "2025-01-14T13:54:33.057960Z"
    }
   },
   "source": [
    "if pH == 7:\n",
    "    print('The solution is neutral.')\n",
    "else:\n",
    "    print('The solution is not neutral.')"
   ],
   "outputs": [
    {
     "name": "stdout",
     "output_type": "stream",
     "text": [
      "The solution is not neutral.\n"
     ]
    }
   ],
   "execution_count": 726
  },
  {
   "cell_type": "markdown",
   "metadata": {},
   "source": [
    "If pH does not equal 7, then anything indented below the `else` statement is executed.\n",
    "\n",
    "There is an additional statement called the `elif` statement, short for “else if,” which is used to add extra conditions below the first `if` statement. The block of code below an `elif` statement only runs if the `if` statement is `False` and the `elif` statement is `True`. In the example below, if pH is equal to 7, the first indented block is run. Otherwise, if pH is greater than 7, the second block is executed. In the event that the `if` and all `elif` statements are `False`, then the `else` block is executed."
   ]
  },
  {
   "cell_type": "code",
   "metadata": {
    "ExecuteTime": {
     "end_time": "2025-01-14T13:54:33.070215Z",
     "start_time": "2025-01-14T13:54:33.068782Z"
    }
   },
   "source": [
    "if pH == 7:\n",
    "    print('The solution is neutral.')\n",
    "elif pH > 7:\n",
    "    print('The solution is basic.')\n",
    "else:\n",
    "    print('The solution is acidic.')"
   ],
   "outputs": [
    {
     "name": "stdout",
     "output_type": "stream",
     "text": [
      "The solution is basic.\n"
     ]
    }
   ],
   "execution_count": 727
  },
  {
   "cell_type": "markdown",
   "metadata": {},
   "source": [
    "It is worth noting that `else` statements are not required with every `if` statement, and the last condition above could have been `elif pH < 7:` and have accomplished the same result."
   ]
  },
  {
   "cell_type": "markdown",
   "metadata": {},
   "source": [
    "(1.6)=\n",
    "## 1.6 List & Tuples\n",
    "\n",
    "```{index} lists\n",
    "```\n",
    "\n",
    "Up to this point, we have only been dealing with single values or strings. It is common to work with a collection of values such as the average atomic masses of the chemical elements, but it is inconvenient to assign each value to its own variable. Instead, the values can be placed in a list or tuple. *Lists* and *tuple* are both collections of *elements*, such as numbers or strings, with the key difference that a list can be modified while a tuple cannot. A tuple is said to be *immutable* as it cannot be changed once created. Not surprisingly, lists are often more useful than tuples.\n",
    "\n",
    "(1.6.1)=\n",
    "### 1.6.1 Creating Lists\n",
    "\n",
    "A list is created by placing elements inside square brackets. Below, the list called `mass` is created containing the atomic mass of the first six chemical elements."
   ]
  },
  {
   "cell_type": "code",
   "metadata": {
    "ExecuteTime": {
     "end_time": "2025-01-14T13:54:33.080500Z",
     "start_time": "2025-01-14T13:54:33.079165Z"
    }
   },
   "source": [
    "mass = [1.01, 4.00, 6.94, 0.01, 10.81, 12.01]"
   ],
   "outputs": [],
   "execution_count": 728
  },
  {
   "cell_type": "code",
   "metadata": {
    "ExecuteTime": {
     "end_time": "2025-01-14T13:54:33.093124Z",
     "start_time": "2025-01-14T13:54:33.091416Z"
    }
   },
   "source": [
    "mass"
   ],
   "outputs": [
    {
     "data": {
      "text/plain": [
       "[1.01, 4.0, 6.94, 0.01, 10.81, 12.01]"
      ]
     },
     "execution_count": 729,
     "metadata": {},
     "output_type": "execute_result"
    }
   ],
   "execution_count": 729
  },
  {
   "cell_type": "markdown",
   "metadata": {},
   "source": [
    "A single list can contain a variety of different types of objects. Below a list called `EN` is created to store the Pauling electronegativity values for the first six elements on the periodic table. The list contains mostly floats, but being that the value for He is unavailable in this example, an `'NA'` string resides where a value would otherwise be."
   ]
  },
  {
   "cell_type": "code",
   "metadata": {
    "ExecuteTime": {
     "end_time": "2025-01-14T13:54:33.102652Z",
     "start_time": "2025-01-14T13:54:33.101362Z"
    }
   },
   "source": [
    "EN = [2.1, 'NA', 1.0, 1.5, 2.0, 2.5]"
   ],
   "outputs": [],
   "execution_count": 730
  },
  {
   "cell_type": "code",
   "metadata": {
    "ExecuteTime": {
     "end_time": "2025-01-14T13:54:33.109072Z",
     "start_time": "2025-01-14T13:54:33.107593Z"
    }
   },
   "source": [
    "EN"
   ],
   "outputs": [
    {
     "data": {
      "text/plain": [
       "[2.1, 'NA', 1.0, 1.5, 2.0, 2.5]"
      ]
     },
     "execution_count": 731,
     "metadata": {},
     "output_type": "execute_result"
    }
   ],
   "execution_count": 731
  },
  {
   "cell_type": "markdown",
   "metadata": {},
   "source": [
    "(1.6.2)=\n",
    "### 1.6.2 Indexing & Slicing List\n",
    "\n",
    "*Indexing* is used to access individual elements in a list, and this method is similar to indexing strings as demonstrated below. The index is the position in the list of a given object, and again, the **index numbering starts with zero**. Accessing an element of a list is done by placing the numerical index of the element we want in square brackets behind the list name. For example, if we want the first element in the electronegativity list (`EN`), we use `EN[0]`, while `EN[1]` provides the second element and so on. \n",
    "\n",
    "````{margin}\n",
    "```{Tip}\n",
    "Variable names can be anything as long as they follow Python rules for variable names, but there are also a few informal conventions. One convention is to use the lowercase letter `i` to hold an index value if you ever need to store indicies.\n",
    "```\n",
    "````"
   ]
  },
  {
   "cell_type": "code",
   "metadata": {
    "ExecuteTime": {
     "end_time": "2025-01-14T13:54:33.114846Z",
     "start_time": "2025-01-14T13:54:33.113209Z"
    }
   },
   "source": [
    "EN[0]"
   ],
   "outputs": [
    {
     "data": {
      "text/plain": [
       "2.1"
      ]
     },
     "execution_count": 732,
     "metadata": {},
     "output_type": "execute_result"
    }
   ],
   "execution_count": 732
  },
  {
   "cell_type": "code",
   "metadata": {
    "ExecuteTime": {
     "end_time": "2025-01-14T13:54:33.125905Z",
     "start_time": "2025-01-14T13:54:33.124250Z"
    }
   },
   "source": [
    "EN[1]"
   ],
   "outputs": [
    {
     "data": {
      "text/plain": [
       "'NA'"
      ]
     },
     "execution_count": 733,
     "metadata": {},
     "output_type": "execute_result"
    }
   ],
   "execution_count": 733
  },
  {
   "cell_type": "markdown",
   "metadata": {},
   "source": [
    "Multiple elements can be retrieved at once by including the start and stop indices separated by a colon. Like in strings, this process is known as *slicing*. A convention that occurs throughout Python is that the first index is included but the second is not, `[included : excluded : step]`."
   ]
  },
  {
   "cell_type": "code",
   "metadata": {
    "ExecuteTime": {
     "end_time": "2025-01-14T13:54:33.135012Z",
     "start_time": "2025-01-14T13:54:33.133433Z"
    }
   },
   "source": [
    "EN[0:3]"
   ],
   "outputs": [
    {
     "data": {
      "text/plain": [
       "[2.1, 'NA', 1.0]"
      ]
     },
     "execution_count": 734,
     "metadata": {},
     "output_type": "execute_result"
    }
   ],
   "execution_count": 734
  },
  {
   "cell_type": "code",
   "metadata": {
    "ExecuteTime": {
     "end_time": "2025-01-14T13:54:33.147496Z",
     "start_time": "2025-01-14T13:54:33.145913Z"
    }
   },
   "source": [
    "EN[3:5]"
   ],
   "outputs": [
    {
     "data": {
      "text/plain": [
       "[1.5, 2.0]"
      ]
     },
     "execution_count": 735,
     "metadata": {},
     "output_type": "execute_result"
    }
   ],
   "execution_count": 735
  },
  {
   "cell_type": "markdown",
   "metadata": {},
   "source": [
    "Just like in strings, if we want everything to the end, provide no stop index."
   ]
  },
  {
   "cell_type": "code",
   "metadata": {
    "ExecuteTime": {
     "end_time": "2025-01-14T13:54:33.159575Z",
     "start_time": "2025-01-14T13:54:33.157882Z"
    }
   },
   "source": [
    "EN[3:]"
   ],
   "outputs": [
    {
     "data": {
      "text/plain": [
       "[1.5, 2.0, 2.5]"
      ]
     },
     "execution_count": 736,
     "metadata": {},
     "output_type": "execute_result"
    }
   ],
   "execution_count": 736
  },
  {
   "cell_type": "markdown",
   "metadata": {},
   "source": [
    "(1.6.3)=\n",
    "### 1.6.3 List Methods\n",
    "\n",
    "Similar to strings, list objects also have a collection of methods (i.e., functions) for performing common tasks. Some of the more common and useful list methods are presented in Table 10, and all of these methods modify the original list except `copy()`. As is the case with methods, they only work on the object type they are designed for, so list methods only work on lists.\n",
    "\n",
    "**Table 10** Common List Methods\n",
    "\n",
    "| Method | Description |\n",
    "|:------:| :---------- |\n",
    "|`append(element)` | Adds a single element to the end of the list |\n",
    "|`clear()` | Removes all elements from the list |\n",
    "|`copy()` | Creates an independent copy of the list |\n",
    "|`count(element)` | Returns the number of times an element occurs in the list |\n",
    "|`extend(elements)` | Adds multiple elements to the list |\n",
    "|`index(element)` | Returns the index of the first occurrence of font  |\n",
    "|`insert(index, element)` | Inserts the given element at the provided index |\n",
    "|`pop(index)` | Removes and returns the element from a given index; if no index is provided, it defaults to the last element |\n",
    "|`remove(element)` | Removes the first occurrence of element in the list |\n",
    "|`reverse()` | Reverses the order of the entire list |\n",
    "|`sort()` | Sorts the list in place |\n",
    "\n",
    "```{index} single: sort; lists\n",
    "```\n",
    "\n",
    "Below is a list containing the masses, in g/mol, of the first seven elements on the periodic table. They are clearly not in order, so they can be sorted using the `sort()` method. Unlike the `sorted()` function (Table 2), the `sort()` method modifies the original list. "
   ]
  },
  {
   "cell_type": "code",
   "metadata": {
    "ExecuteTime": {
     "end_time": "2025-01-14T13:54:33.169236Z",
     "start_time": "2025-01-14T13:54:33.168029Z"
    }
   },
   "source": [
    "mass = [4.00, 1.01, 6.94, 14.01, 10.81, 12.01, 9.01]"
   ],
   "outputs": [],
   "execution_count": 737
  },
  {
   "cell_type": "code",
   "metadata": {
    "ExecuteTime": {
     "end_time": "2025-01-14T13:54:33.180190Z",
     "start_time": "2025-01-14T13:54:33.178586Z"
    }
   },
   "source": [
    "mass.sort()\n",
    "mass"
   ],
   "outputs": [
    {
     "data": {
      "text/plain": [
       "[1.01, 4.0, 6.94, 9.01, 10.81, 12.01, 14.01]"
      ]
     },
     "execution_count": 738,
     "metadata": {},
     "output_type": "execute_result"
    }
   ],
   "execution_count": 738
  },
  {
   "cell_type": "markdown",
   "metadata": {},
   "source": [
    "The list can be reversed using the `reverse()` method."
   ]
  },
  {
   "cell_type": "code",
   "metadata": {
    "ExecuteTime": {
     "end_time": "2025-01-14T13:54:33.186146Z",
     "start_time": "2025-01-14T13:54:33.184513Z"
    }
   },
   "source": [
    "mass.reverse()\n",
    "mass"
   ],
   "outputs": [
    {
     "data": {
      "text/plain": [
       "[14.01, 12.01, 10.81, 9.01, 6.94, 4.0, 1.01]"
      ]
     },
     "execution_count": 739,
     "metadata": {},
     "output_type": "execute_result"
    }
   ],
   "execution_count": 739
  },
  {
   "cell_type": "markdown",
   "metadata": {},
   "source": [
    "Probably one of the most useful methods in Table 10 is the `append()` method. This is used for adding a single element to a list. The `extend()` method is related but is used to add multiple elements to the list. "
   ]
  },
  {
   "cell_type": "code",
   "metadata": {
    "ExecuteTime": {
     "end_time": "2025-01-14T13:54:33.198473Z",
     "start_time": "2025-01-14T13:54:33.196798Z"
    }
   },
   "source": [
    "mass.append(16.00)\n",
    "mass"
   ],
   "outputs": [
    {
     "data": {
      "text/plain": [
       "[14.01, 12.01, 10.81, 9.01, 6.94, 4.0, 1.01, 16.0]"
      ]
     },
     "execution_count": 740,
     "metadata": {},
     "output_type": "execute_result"
    }
   ],
   "execution_count": 740
  },
  {
   "cell_type": "code",
   "metadata": {
    "ExecuteTime": {
     "end_time": "2025-01-14T13:54:33.212341Z",
     "start_time": "2025-01-14T13:54:33.210555Z"
    }
   },
   "source": [
    "mass.extend([19.00, 20.18])\n",
    "mass"
   ],
   "outputs": [
    {
     "data": {
      "text/plain": [
       "[14.01, 12.01, 10.81, 9.01, 6.94, 4.0, 1.01, 16.0, 19.0, 20.18]"
      ]
     },
     "execution_count": 741,
     "metadata": {},
     "output_type": "execute_result"
    }
   ],
   "execution_count": 741
  },
  {
   "cell_type": "markdown",
   "metadata": {},
   "source": [
    "If multiple elements are added using the `append()` method, it will result in a nested list... that is, a list inside the list as demonstrated below."
   ]
  },
  {
   "cell_type": "code",
   "metadata": {
    "ExecuteTime": {
     "end_time": "2025-01-14T13:54:33.223299Z",
     "start_time": "2025-01-14T13:54:33.221492Z"
    }
   },
   "source": [
    "mass.append([23.00, 24.31])\n",
    "mass"
   ],
   "outputs": [
    {
     "data": {
      "text/plain": [
       "[14.01, 12.01, 10.81, 9.01, 6.94, 4.0, 1.01, 16.0, 19.0, 20.18, [23.0, 24.31]]"
      ]
     },
     "execution_count": 742,
     "metadata": {},
     "output_type": "execute_result"
    }
   ],
   "execution_count": 742
  },
  {
   "cell_type": "markdown",
   "metadata": {},
   "source": [
    "There are times when this might be what we want, but probably not here.\n",
    "\n",
    "```{Tip}\n",
    "The `append()` method is frequently used as a means of storing values in a list as they are generated like the following calculation of the wavelnegths in the Balmer series. The `for` loop is explained in [section 1.7.1](1.7.1).\n",
    "\n",
    "~~~python\n",
    "wavelengths = []\n",
    "for n in range(3,6):\n",
    "    wl = 1 / (1.097E-2 * (0.25 - 1/n**2))\n",
    "    wavelengths.append(wl)\n",
    "~~~\n",
    "```"
   ]
  },
  {
   "cell_type": "markdown",
   "metadata": {},
   "source": [
    "(1.6.4)=\n",
    "### 1.6.4 `range` Objects\n",
    "\n",
    "It is common to need a sequential series of values in a specific range. The user can manually type these values into a list, but computer programming is about making the computer do the hard work for you. Python includes a function called `range()` that will generate a series of values in the desired range. The `range()` function requires at least one argument to tell it how high the range should be. For example, `range(10)` generates values up to and excluding 10."
   ]
  },
  {
   "cell_type": "code",
   "metadata": {
    "ExecuteTime": {
     "end_time": "2025-01-14T13:54:33.234881Z",
     "start_time": "2025-01-14T13:54:33.233448Z"
    }
   },
   "source": [
    "a = range(10)\n",
    "print(a)"
   ],
   "outputs": [
    {
     "name": "stdout",
     "output_type": "stream",
     "text": [
      "range(0, 10)\n"
     ]
    }
   ],
   "execution_count": 743
  },
  {
   "cell_type": "markdown",
   "metadata": {},
   "source": [
    "The output of `a` is probably not what you expected. You were likely expecting a list from 0 $\\rightarrow$ 9, which is what used to happen back in the Python 2 days. Now, Python generates a *range object* that stands in the place of a list because it requires less memory. If you want an actual list from it, just convert it using the `list()` function."
   ]
  },
  {
   "cell_type": "code",
   "metadata": {
    "ExecuteTime": {
     "end_time": "2025-01-14T13:54:33.246802Z",
     "start_time": "2025-01-14T13:54:33.245204Z"
    }
   },
   "source": [
    "list(a)"
   ],
   "outputs": [
    {
     "data": {
      "text/plain": [
       "[0, 1, 2, 3, 4, 5, 6, 7, 8, 9]"
      ]
     },
     "execution_count": 744,
     "metadata": {},
     "output_type": "execute_result"
    }
   ],
   "execution_count": 744
  },
  {
   "cell_type": "markdown",
   "metadata": {},
   "source": [
    "The `range()` function also takes additional arguments to further customize the range and spacing of values. A start and stop position may be provided to the `range()` function as shown below. Consistent with indexing, the range includes the start value and excludes the stop value."
   ]
  },
  {
   "cell_type": "code",
   "metadata": {
    "ExecuteTime": {
     "end_time": "2025-01-14T13:54:33.256527Z",
     "start_time": "2025-01-14T13:54:33.254873Z"
    }
   },
   "source": [
    "list(range(3,12))"
   ],
   "outputs": [
    {
     "data": {
      "text/plain": [
       "[3, 4, 5, 6, 7, 8, 9, 10, 11]"
      ]
     },
     "execution_count": 745,
     "metadata": {},
     "output_type": "execute_result"
    }
   ],
   "execution_count": 745
  },
  {
   "cell_type": "markdown",
   "metadata": {},
   "source": [
    "Finally, a step size can also be included. The default step size is one, but it can be increased to any integer value including negative numbers."
   ]
  },
  {
   "cell_type": "code",
   "metadata": {
    "ExecuteTime": {
     "end_time": "2025-01-14T13:54:33.272948Z",
     "start_time": "2025-01-14T13:54:33.270950Z"
    }
   },
   "source": [
    "list(range(3,20,3))"
   ],
   "outputs": [
    {
     "data": {
      "text/plain": [
       "[3, 6, 9, 12, 15, 18]"
      ]
     },
     "execution_count": 746,
     "metadata": {},
     "output_type": "execute_result"
    }
   ],
   "execution_count": 746
  },
  {
   "cell_type": "code",
   "metadata": {
    "ExecuteTime": {
     "end_time": "2025-01-14T13:54:33.287192Z",
     "start_time": "2025-01-14T13:54:33.285379Z"
    }
   },
   "source": [
    "list(range(10,3,-1))"
   ],
   "outputs": [
    {
     "data": {
      "text/plain": [
       "[10, 9, 8, 7, 6, 5, 4]"
      ]
     },
     "execution_count": 747,
     "metadata": {},
     "output_type": "execute_result"
    }
   ],
   "execution_count": 747
  },
  {
   "cell_type": "markdown",
   "metadata": {},
   "source": [
    "While range objects may seem intimidating, they can be used in place of a list. Just pretend the range object is really a list. For example, you can index it like a list as shown below."
   ]
  },
  {
   "cell_type": "code",
   "metadata": {
    "ExecuteTime": {
     "end_time": "2025-01-14T13:54:33.297226Z",
     "start_time": "2025-01-14T13:54:33.295840Z"
    }
   },
   "source": [
    "ten_nums = range(10)"
   ],
   "outputs": [],
   "execution_count": 748
  },
  {
   "cell_type": "code",
   "metadata": {
    "ExecuteTime": {
     "end_time": "2025-01-14T13:54:33.304814Z",
     "start_time": "2025-01-14T13:54:33.303213Z"
    }
   },
   "source": [
    "ten_nums[2]"
   ],
   "outputs": [
    {
     "data": {
      "text/plain": [
       "2"
      ]
     },
     "execution_count": 749,
     "metadata": {},
     "output_type": "execute_result"
    }
   ],
   "execution_count": 749
  },
  {
   "cell_type": "markdown",
   "metadata": {},
   "source": [
    "(1.6.5)=\n",
    "### 1.6.5 Tuples\n",
    "\n",
    "```{index} tuples\n",
    "```\n",
    "\n",
    "```{index} immutable\n",
    "```\n",
    "\n",
    "*Tuples* are another object type similar to lists except that they are *immutable* - that is to say, they cannot be changed once created. They look similar to a list except that they use parentheses instead of square brackets. So what use is an unchangeable list-like object? There are times when you might want data inside your code, but you do not want to accidentally change it. Think of it as something similar to locking a file on your computer to avoid accidentally making modifications. While this features is not strictly necessary, it may be a prudent practice in some situation in case you make a mistake.\n",
    "\n",
    "Below is a tuple containing the energy in joules of the first five hydrogen atomic orbitals. There is no need to change this data in your code, so fixing it in a tuple makes sense. Indexing and slicing work exactly the same in tuples as they do in string and lists, so we can use this tuple to quickly calculate the energy difference between any pair of atomic orbitals. "
   ]
  },
  {
   "cell_type": "code",
   "metadata": {
    "ExecuteTime": {
     "end_time": "2025-01-14T13:54:33.310142Z",
     "start_time": "2025-01-14T13:54:33.308951Z"
    }
   },
   "source": [
    "nrg = (-2.18e-18, -5.45e-19, -2.42e-19, -1.36e-19, -8.72e-20)"
   ],
   "outputs": [],
   "execution_count": 750
  },
  {
   "cell_type": "code",
   "metadata": {
    "ExecuteTime": {
     "end_time": "2025-01-14T13:54:33.319528Z",
     "start_time": "2025-01-14T13:54:33.318045Z"
    }
   },
   "source": [
    "nrg[1] - nrg[0]"
   ],
   "outputs": [
    {
     "data": {
      "text/plain": [
       "1.635e-18"
      ]
     },
     "execution_count": 751,
     "metadata": {},
     "output_type": "execute_result"
    }
   ],
   "execution_count": 751
  },
  {
   "cell_type": "code",
   "metadata": {
    "ExecuteTime": {
     "end_time": "2025-01-14T13:54:33.325742Z",
     "start_time": "2025-01-14T13:54:33.324246Z"
    }
   },
   "source": [
    "nrg[4] - nrg[3]"
   ],
   "outputs": [
    {
     "data": {
      "text/plain": [
       "4.879999999999998e-20"
      ]
     },
     "execution_count": 752,
     "metadata": {},
     "output_type": "execute_result"
    }
   ],
   "execution_count": 752
  },
  {
   "cell_type": "markdown",
   "metadata": {},
   "source": [
    "That last output is worth commenting on. You may have noticed that the value returned by Python is not exactly what you probably expected based on the precision of the values in the `nrg` tuple. This is because Python does not store values to infinite precision, so this is merely a rounding error."
   ]
  },
  {
   "cell_type": "markdown",
   "metadata": {},
   "source": [
    "(1.7)=\n",
    "## 1.7 Loops\n",
    "\n",
    "```{index} loops\n",
    "```\n",
    "```{index} for loops\n",
    "```\n",
    "\n",
    "*Loops* allow programs to rerun the same block of code multiple times. This is important because there are often sections of code that need to be run numerous times, sometimes extending into the thousands. If we needed to include a separate copy of the same code for every time it is run, our scripts would be unreasonably large.\n",
    "\n",
    "(1.7.1)=\n",
    "### 1.7.1 `for` Loops\n",
    "\n",
    "The `for` loop is probably the most common loop you will encounter. It is often used to iterate over a multi-element object like lists or tuples, and for each element, the block of indented code below is executed. For example:"
   ]
  },
  {
   "cell_type": "code",
   "metadata": {
    "ExecuteTime": {
     "end_time": "2025-01-14T13:54:33.337249Z",
     "start_time": "2025-01-14T13:54:33.335854Z"
    }
   },
   "source": [
    "for value in [4, 6, 2]:\n",
    "    print(2 * value)"
   ],
   "outputs": [
    {
     "name": "stdout",
     "output_type": "stream",
     "text": [
      "8\n",
      "12\n",
      "4\n"
     ]
    }
   ],
   "execution_count": 753
  },
  {
   "cell_type": "markdown",
   "metadata": {},
   "source": [
    "During the `for` loop, each element in the list is assigned to the variable `value` and then the code below is run. Essentially, what is happening is shown below.\n",
    "\n",
    "~~~python\n",
    "value = 4\n",
    "print(2 * value)\n",
    "value = 6\n",
    "print(2 * value)\n",
    "value = 2\n",
    "print(2 * value)\n",
    "~~~\n",
    "\n",
    "This allows us to perform mathematical operations on each element of a list or tuple. If we instead try multiplying the list by two, we get a list of twice the length."
   ]
  },
  {
   "cell_type": "code",
   "metadata": {
    "ExecuteTime": {
     "end_time": "2025-01-14T13:54:33.348252Z",
     "start_time": "2025-01-14T13:54:33.346762Z"
    }
   },
   "source": [
    "2 * [4, 6, 2]"
   ],
   "outputs": [
    {
     "data": {
      "text/plain": [
       "[4, 6, 2, 4, 6, 2]"
      ]
     },
     "execution_count": 754,
     "metadata": {},
     "output_type": "execute_result"
    }
   ],
   "execution_count": 754
  },
  {
   "cell_type": "markdown",
   "metadata": {},
   "source": [
    "The `for` loop does not, however, modify the original list. If we want a list containing the squares of the values in a previous list, we should first create an empty list and append the square values to the list."
   ]
  },
  {
   "cell_type": "code",
   "metadata": {
    "ExecuteTime": {
     "end_time": "2025-01-14T13:54:33.359200Z",
     "start_time": "2025-01-14T13:54:33.357720Z"
    }
   },
   "source": [
    "numbers = [1, 2, 3, 4, 5, 6]  # original values\n",
    "squares = []  # an empty list\n",
    "\n",
    "for value in numbers:\n",
    "    squares.append(value**2)"
   ],
   "outputs": [],
   "execution_count": 755
  },
  {
   "cell_type": "code",
   "metadata": {
    "ExecuteTime": {
     "end_time": "2025-01-14T13:54:33.375386Z",
     "start_time": "2025-01-14T13:54:33.373690Z"
    }
   },
   "source": [
    "squares"
   ],
   "outputs": [
    {
     "data": {
      "text/plain": [
       "[1, 4, 9, 16, 25, 36]"
      ]
     },
     "execution_count": 756,
     "metadata": {},
     "output_type": "execute_result"
    }
   ],
   "execution_count": 756
  },
  {
   "cell_type": "markdown",
   "metadata": {},
   "source": [
    "We can also iterate over range objects and strings using `for` loops. Remember that range objects do not actually generate a list, but we can often treating them as if though they do. As an example, we can generate the wavelengths ($\\lambda$) in the Balmer series by the following equation where $R_{\\infty}$ is the Rydberg constant (1.097 $\\times$ 10$^{-2}$ nm$^{-1}$) and $n_i$  is the initial principle quantum number.\n",
    "\n",
    "\n",
    "$$ \\frac{1}{\\lambda} = R_{\\infty} \\left( \\frac{1}{4} - \\frac{1}{n_i^2} \\right) $$\n",
    "\n",
    "The code below generates the first five wavelengths (nm) in the Balmer series."
   ]
  },
  {
   "cell_type": "code",
   "metadata": {
    "ExecuteTime": {
     "end_time": "2025-01-14T13:54:33.381145Z",
     "start_time": "2025-01-14T13:54:33.379714Z"
    }
   },
   "source": [
    "for n in range(3,8):\n",
    "    lam = 1 / (1.097e-2 * (0.25 - (1/n**2)))\n",
    "    print(lam)"
   ],
   "outputs": [
    {
     "name": "stdout",
     "output_type": "stream",
     "text": [
      "656.3354603463993\n",
      "486.1744150714068\n",
      "434.084299170899\n",
      "410.2096627164995\n",
      "397.04243897498225\n"
     ]
    }
   ],
   "execution_count": 757
  },
  {
   "cell_type": "markdown",
   "metadata": {},
   "source": [
    "A `for` loop can also iterate over a string."
   ]
  },
  {
   "cell_type": "code",
   "metadata": {
    "ExecuteTime": {
     "end_time": "2025-01-14T13:54:33.389739Z",
     "start_time": "2025-01-14T13:54:33.388393Z"
    }
   },
   "source": [
    "for letter in 'Linus':\n",
    "    print(letter.capitalize())"
   ],
   "outputs": [
    {
     "name": "stdout",
     "output_type": "stream",
     "text": [
      "L\n",
      "I\n",
      "N\n",
      "U\n",
      "S\n"
     ]
    }
   ],
   "execution_count": 758
  },
  {
   "cell_type": "markdown",
   "metadata": {},
   "source": [
    "Another common use of `for` loops is to repeat a task a given number of times. It essentially acts as a counter. Imagine we want to determine how much of a 183.2 g $^{235}$U sample would be left after six half-lives. We can divide the quantity six times and print the result of each division. To accomplish this, we will have a `for` loop iterate over an object with a length of six, executing the division and printing each mass. The easiest way to generate an iterable object of length six is using the `range()` function."
   ]
  },
  {
   "cell_type": "code",
   "metadata": {
    "ExecuteTime": {
     "end_time": "2025-01-14T13:54:33.401389Z",
     "start_time": "2025-01-14T13:54:33.399848Z"
    }
   },
   "source": [
    "U235 = 183.2\n",
    "for x in range(6):\n",
    "    U235 = U235 / 2\n",
    "    print(str(U235) + ' g')"
   ],
   "outputs": [
    {
     "name": "stdout",
     "output_type": "stream",
     "text": [
      "91.6 g\n",
      "45.8 g\n",
      "22.9 g\n",
      "11.45 g\n",
      "5.725 g\n",
      "2.8625 g\n"
     ]
    }
   ],
   "execution_count": 759
  },
  {
   "cell_type": "markdown",
   "metadata": {},
   "source": [
    "In the above example, the value `x` from the range object is not used in the `for` loop. There is no rule that says it has to be. Also, you may notice that the variable names in all the above examples keep changing. Just like in the rest of your code, you are also welcome to pick your variables in the `for` loop. Some people like to use `x` as a generic variable, but it is often best to give the `for` loop variable an intuative name so that it is easy to follow as your code grows more complex. "
   ]
  },
  {
   "cell_type": "markdown",
   "metadata": {},
   "source": [
    "(1.7.2)=\n",
    "### 1.7.2 `while` Loops\n",
    "\n",
    "The other common loop is the `while` loop. It is used to keep executing the indented block of code below until a stop condition is satisfied. As an example, the indented block of code below the `while` statement is run until `x` is no longer less than ten. The `x < 10` is known as the *termination condition*, and it is checked each time before the indented code is executed. "
   ]
  },
  {
   "cell_type": "code",
   "metadata": {
    "ExecuteTime": {
     "end_time": "2025-01-14T13:54:33.415583Z",
     "start_time": "2025-01-14T13:54:33.414007Z"
    }
   },
   "source": [
    "x = 0\n",
    "while x < 10:\n",
    "    print(x)\n",
    "    x = x + 2  # increments by 2"
   ],
   "outputs": [
    {
     "name": "stdout",
     "output_type": "stream",
     "text": [
      "0\n",
      "2\n",
      "4\n",
      "6\n",
      "8\n"
     ]
    }
   ],
   "execution_count": 760
  },
  {
   "cell_type": "markdown",
   "metadata": {},
   "source": [
    "Essentially, what is going on is shown in the following example, and this continues until `x` is no longer greater than 10.\n",
    "\n",
    "~~~python\n",
    "if x < 10:\n",
    "    print(x)\n",
    "    x = x + 2\n",
    "if x < 10:\n",
    "    print(x)\n",
    "    x = x + 2\n",
    "~~~\n",
    "\n",
    "The `while` loops is not as common as the `for` loop and should be used with caution. This is because it is not difficult to have what is known as a *faulty termination condition* resulting in the code executing indefinitely... or until you manually stop Python or Python crashes because it ran out of memory. This happens because the termination condition is never met resulting in a runaway process.\n",
    "\n",
    "```{warning}\n",
    "Do **not** run the following code! It may result in Python crashing.\n",
    "```\n",
    "\n",
    "~~~python\n",
    "x = 0\n",
    "while x != 10:\n",
    "    x = x + 3\n",
    "    print('Done')\n",
    "~~~    \n",
    "\n",
    "In the above code, the value is incremented until it reaches 10 (remember, `!=` means “does not equal”), and then a “Done” message is printed - at least that is the intention. No message is ever printed and the `while` loop keeps running. If we do the math on the values for `x`, we find that in incrementing by three (0, 3, 6, 9, 12,...), the value for `x` never equals 10, so the `while` loop never stops. For this reason, it is wise to avoid `while` loops unless you absolutely must use them. If you do use a `while` loop, triple check your termination condition and avoid using `=` or `!=` in your termination condition. Instead, try to use `<=` or `>=`. These are less likely to fail."
   ]
  },
  {
   "cell_type": "markdown",
   "metadata": {},
   "source": [
    "(1.7.3)=\n",
    "### 1.7.3 `Continue`, `Pass`, & `Break` Commands\n",
    "\n",
    "```{index} break\n",
    "```\n",
    "```{index} continue\n",
    "```\n",
    "```{index} pass\n",
    "```\n",
    "\n",
    "Other ways to control the flow of code execution are the `continue`, `pass`, and `break` commands. These are not used heavily, but it is helpful to know about them on the occasions that you need them. Table 11 summarizes each of these statements below.\n",
    "\n",
    "**Table 11** Loop Interruptions\n",
    "\n",
    "| Statement | Description |\n",
    "|:-------:  | :---------  |\n",
    "|`break`    | Breaks out of lowest containing `for`/`while` loop |\n",
    "|`continue` | Starts the next iteration of the lowest containing `for`/`while` loop |\n",
    "|`pass`     | No action; code continues on |\n",
    "\n",
    "\n",
    "The `break` statement breaks out of the most lowest containing loop. This is useful if you want to apply a condition to completely stop the `for` or `while` loop early. For example, we can simulate the titration of 0.9 M NaOH with 1 mL increments of 1.0 M HCl. In the code below, the initial volumes of NaOH and HCl are 25 mL and 0 mL, respectively. The `for` loop successively checks to see if there is more or equal moles of HCl as NaOH (i.e., the equivalence point). If not, the volume of HCl is incremented by one milliliter. "
   ]
  },
  {
   "cell_type": "code",
   "metadata": {
    "ExecuteTime": {
     "end_time": "2025-01-14T13:54:33.428103Z",
     "start_time": "2025-01-14T13:54:33.426477Z"
    }
   },
   "source": [
    "vol_OH = 35\n",
    "vol_H = 0\n",
    "\n",
    "for ml in range(1, 50):\n",
    "    vol_total = vol_OH + vol_H\n",
    "    mol_OH = 0.9 * vol_OH / 1000\n",
    "    mol_H = 1.0 * vol_H / 1000\n",
    "    if mol_H >= mol_OH:\n",
    "        break \n",
    "    else:\n",
    "        vol_H = vol_H + 1\n",
    "        \n",
    "print(f'Endpoint: {vol_H} mL HCl solution')"
   ],
   "outputs": [
    {
     "name": "stdout",
     "output_type": "stream",
     "text": [
      "Endpoint: 32 mL HCl solution\n"
     ]
    }
   ],
   "execution_count": 761
  },
  {
   "cell_type": "markdown",
   "metadata": {},
   "source": [
    "If we solve this titration using the C$_1$V$_1$ = C$_2$V$_2$ equation where C is concentration and V is volume, we expect an endpoint of 31.5 mL of HCl, so a simulated endpoint of 32 mL makes sense. The above simulation can also be written as a `while` loop. A `break` statement can often be avoided through other methods, but it is good to be able to use one for instances where you really need it.\n",
    "\n",
    "The `continue` statement is similar to the `break` except that instead of completely stopping a loop, it stops only the current iteration of the loop and immediately starts the next cycle. The script below takes the square root of even numbers only. The even number check is performed with `number % 2 == 1`. If this is `True`, the number is odd, and the `continue` statement causes the `for` loop to continue on to the next number."
   ]
  },
  {
   "cell_type": "code",
   "metadata": {
    "ExecuteTime": {
     "end_time": "2025-01-14T13:54:33.439142Z",
     "start_time": "2025-01-14T13:54:33.437684Z"
    }
   },
   "source": [
    "numbers = [1,2,3,4,5,6,7]\n",
    "for number in numbers:\n",
    "    if number % 2 == 1:\n",
    "        continue\n",
    "    print(math.sqrt(number))"
   ],
   "outputs": [
    {
     "name": "stdout",
     "output_type": "stream",
     "text": [
      "1.4142135623730951\n",
      "2.0\n",
      "2.449489742783178\n"
     ]
    }
   ],
   "execution_count": 762
  },
  {
   "cell_type": "markdown",
   "metadata": {},
   "source": [
    "Finally, the `pass` statement does nothing. Seriously. It is merely a placeholder for code that you have not yet written by telling the Python interpreter to continue on. No completed code should contain a `pass` statement. The reason for using one is to be able to run and test code without errors occurring due to missing parts. If the following code is executed, an error will occur because there is nothing below the `else` statement."
   ]
  },
  {
   "cell_type": "code",
   "metadata": {
    "editable": true,
    "slideshow": {
     "slide_type": ""
    },
    "tags": [
     "raises-exception"
    ],
    "ExecuteTime": {
     "end_time": "2025-01-14T13:54:33.451077Z",
     "start_time": "2025-01-14T13:54:33.449294Z"
    }
   },
   "source": [
    "pH = 5\n",
    "if pH >7:\n",
    "    print('Basic')\n",
    "else:"
   ],
   "outputs": [
    {
     "ename": "SyntaxError",
     "evalue": "incomplete input (1521849139.py, line 4)",
     "output_type": "error",
     "traceback": [
      "\u001B[0;36m  Cell \u001B[0;32mIn[763], line 4\u001B[0;36m\u001B[0m\n\u001B[0;31m    else:\u001B[0m\n\u001B[0m         ^\u001B[0m\n\u001B[0;31mSyntaxError\u001B[0m\u001B[0;31m:\u001B[0m incomplete input\n"
     ]
    }
   ],
   "execution_count": 763
  },
  {
   "cell_type": "markdown",
   "metadata": {},
   "source": [
    "However, if we add a `pass` statement, no error occurs allowing us to see if the code works, aside from the missing part."
   ]
  },
  {
   "cell_type": "code",
   "metadata": {},
   "source": [
    "pH = 5\n",
    "if pH >7:\n",
    "    print('Basic')\n",
    "else:\n",
    "    pass"
   ],
   "outputs": [],
   "execution_count": null
  },
  {
   "cell_type": "markdown",
   "metadata": {},
   "source": [
    "(1.8)=\n",
    "## 1.8 File Input/Output (I/O)\n",
    "\n",
    "```{index} single: file input/output; with Python\n",
    "```\n",
    "\n",
    "Up to this point, we have only been dealing with computer-generated and manually typed values, strings, lists, and tuples. In research and laboratory environments, we often need to work with data stored in a file. These files may be generated from an instrument or as the result of humans typing values into a spreadsheet as they take measurements or make observations. There are two general categories of data files: text and binary files. *Text files* are those that, when opened by a text editor, can be read by humans, while *binary files* cannot. The reading of binary files requires other specialized software, such as demonstrated in [chapter 11](11), and text files are very common for storing data, so we will focus only on text files here. \n",
    "\n",
    "There are a large variety of text files which differ simply by the way in which the information is formatted in the file. Common examples include comma separated values (CSV), protein database (PDB), and *xyz* coordinates (XYZ). These files have different extensions (i.e., those 3-4 letters after the period at the end of a file name), but they are all just text files. You can change the extension to *.txt* if you like and open them in any text editor or word processor. The *.csv*, *.pdb*, and *.xyz* are simply tags to help your computer decide which software application can and should open the file.\n",
    "\n",
    "We will focus on the CSV file format as it is extremely common, and many software applications can export data in the CSV format. Comma separated value files are a way of encoding information that might otherwise be stored in a spreadsheet, and spreadsheet applications are able to easily read and write CSV files.  Each line of the text file is a different row, and each item in a row is separated by commas... hence the name. Below are the contents of a CSV file and how it would look in a spreadsheet. In some files, you may see a `\\n` at the end of each line. This is a line terminator character telling some software applications where a line ends.\n",
    "\n",
    "````{margin}\n",
    "```{tip}\n",
    "Next time you collect data in the lab, see what other file formats the software/instrument can save/export the data as. Odds are good that it can save it as a CSV file.\n",
    "```\n",
    "````\n",
    "\n",
    "![](img/csv_file.png)\n",
    "\n",
    "(1.8.1)=\n",
    "### 1.8.1.Reading Lines with Python\n",
    "\n",
    "The first method we will cover for reading text files is the native Python method of reading the lines of the text file one at a time. This method requires a little more effort than the other methods in this book, but it also offers much more control.\n",
    "\n",
    "There are three general steps for this approach: open the file, read each line one at a time, and close the file. Opening the file is performed with the `open()` function. Be sure to attach the file to a variable to be accessed later. Next, the data is read a single line at a time using the `readlines()` method. Being that we need to do the same task over and over, we will use a `for` loop. Finally, it is a good practice to close the file using the `close()` command. This process is demonstrated below in opening the data shown above in a file called *squares.csv*.\n",
    "\n",
    "````{margin}\n",
    "```{note}\n",
    "Unless otherwise indicated, Python searches for the file in the same directory (folder) as the Jupyter notebook. If the file is not in this directory, be sure to provide a path to the file. For more advanced techniques on navigating your file system, see [section 2.4.1](2.4.1).\n",
    "```\n",
    "````\n",
    "\n",
    "```{note}\n",
    "One major difference between running the software installed on your own computer and Google Colab is that if you want Colab to be able to interact with data or images files on your Google Drive, you need to include the three extra lines of code shown below at the top of your notebook. The first two lines grant the notebook access to read/write files on your Google Drive while the third line (`%cd /content/drive/My Drive/project`) points your notebook to where your files are located. The path should reflect the location of the folder containing your notebook and data files. For example, if your notebook is contained in a folder titled `project` on Google Drive, the path will be `/content/drive/My Drive/project`.\n",
    "\n",
    "~~~python\n",
    "from google.colab import drive\n",
    "drive.mount('/content/drive')\n",
    "\n",
    "%cd /content/drive/My Drive/project\n",
    "~~~\n",
    "```"
   ]
  },
  {
   "cell_type": "code",
   "metadata": {},
   "source": [
    "file = open('data/squares.csv')\n",
    "for line in file.readlines():\n",
    "    print(line)\n",
    "file.close()"
   ],
   "outputs": [],
   "execution_count": null
  },
  {
   "cell_type": "markdown",
   "metadata": {},
   "source": [
    "It worked! The above code read each line and printed the contents. Of course, this is not particularly useful in this form. It would much more useful in lists. We can fix this by creating a couple empty lists and appending the values to them as they are read."
   ]
  },
  {
   "cell_type": "code",
   "metadata": {},
   "source": [
    "file = open('data/squares.csv')\n",
    "\n",
    "numbers = []\n",
    "squares = []\n",
    "\n",
    "for line in file.readlines():\n",
    "    fields = line.split(',')        # splits line at comma\n",
    "    numbers.append(int(fields[0]))\n",
    "    squares.append(int(fields[1]))\n",
    "\n",
    "file.close()"
   ],
   "outputs": [],
   "execution_count": null
  },
  {
   "cell_type": "markdown",
   "metadata": {},
   "source": [
    "Now the values are in two separate lists. The first values are in the `numbers` list and the squares of the numbers are in the `squares` list."
   ]
  },
  {
   "cell_type": "code",
   "metadata": {},
   "source": [
    "numbers"
   ],
   "outputs": [],
   "execution_count": null
  },
  {
   "cell_type": "code",
   "metadata": {},
   "source": [
    "squares"
   ],
   "outputs": [],
   "execution_count": null
  },
  {
   "cell_type": "markdown",
   "metadata": {},
   "source": [
    "While the above methods work fine, it is considered best practice to read a file inside a *context* so that even if an error occurs, the file will still be closed properly. This is done as shown below using a `with` statement. There is no need to explicitly close the file because it is done for you."
   ]
  },
  {
   "cell_type": "code",
   "metadata": {},
   "source": [
    "with open('data/squares.csv') as file:\n",
    "    for line in file.readlines():\n",
    "        print(line)"
   ],
   "outputs": [],
   "execution_count": null
  },
  {
   "cell_type": "markdown",
   "metadata": {},
   "source": [
    "(1.8.2)=\n",
    "### 1.8.2 Writing Data with Python\n",
    "\n",
    "```{index} single: writing files; with Python\n",
    "```\n",
    "\n",
    "Python can also write data to a file using the `write()` function which takes a string and writes it to a file. Before this can be done, the file needs to be opened using the `open()` function requires the name of the file to write to, and if the file does not already exist, it creates a new file with this name. There is an optional second argument for the `open()` function that sets the mode in which the file is opened. There are a number of modes, but common modes include `'w'` for write only mode, `'r'` for read only mode, and `'a'` for append mode. The latter adds any new text to the end of an already-existing file. \n",
    "\n",
    "In the example below, a list, `angular`, containing nested lists of angular quantum numbers and shapes is written to a new file. Following each nested list (i.e., angular quantum number and shape pair) is a line terminator character `\\n`. Because the following code opens the file in a context using a `with` statement, there is no need to explicitly close the file as this is done automatically."
   ]
  },
  {
   "cell_type": "code",
   "metadata": {},
   "source": [
    "angular = [['l', 'shape'], [0, 's'], [1, 'p'], \n",
    "            [2, 'd'], [3, 'f']]\n",
    "\n",
    "with open('new_file.csv', 'w') as file:\n",
    "    for row in angular:\n",
    "        file.write('{0}, {1} \\n'.format(row[0], row[1]))"
   ],
   "outputs": [],
   "execution_count": null
  },
  {
   "cell_type": "markdown",
   "metadata": {},
   "source": [
    "(1.8.3)=\n",
    "### 1.8.3 Reading Data with `np.genfromtxt()`\n",
    "\n",
    "```{index} single: file input/output; with NumPy\n",
    "```\n",
    "\n",
    "The second approach to reading data from files uses a function from the NumPy library called `genfromtxt()`. NumPy will not be covered in depth until [chapter 4](4), but we can still use a couple functions before then. Before using NumPy, we need to import it using `import numpy as np`, which can be thought of as activating the library. The `np.genfromtxt()` function takes two required arguments for reading a text file: the file name and the delimiter. \n",
    "\n",
    "~~~python\n",
    "np.genfromtxt('file_name', delimiter='')\n",
    "~~~\n",
    "\n",
    "The *delimiter* is the symbol that separates values in each row and can be almost any symbol including spaces or tabs. If you encounter tab separated data, use `delimiter='\\t'`, and for comma separated values (CSV) file, use `delimiter=','`. "
   ]
  },
  {
   "cell_type": "code",
   "metadata": {},
   "source": [
    "import numpy as np"
   ],
   "outputs": [],
   "execution_count": null
  },
  {
   "cell_type": "code",
   "metadata": {},
   "source": [
    "file = np.genfromtxt('data/squares.csv', delimiter=',')\n",
    "file"
   ],
   "outputs": [],
   "execution_count": null
  },
  {
   "cell_type": "markdown",
   "metadata": {},
   "source": [
    "The output of this function is something called a *NumPy array*. It is similar to a list except more powerful. You will learn to use these in [chapter 4](4), but for now, just treat it as a list. If we want to know the square of 4, we can access that value using indexing. In the example below, the first index identifies the nested list inside the main list, and the second index indicates the second value inside that list."
   ]
  },
  {
   "cell_type": "code",
   "metadata": {},
   "source": [
    "file[4][1]"
   ],
   "outputs": [],
   "execution_count": null
  },
  {
   "cell_type": "markdown",
   "metadata": {},
   "source": [
    "Another feature of the `np.genfromtxt()` function is the `skip_header=` optional argument. It instructs the function to disregard data until after a certain number of rows in the file. This is helpful because files often include non-data headers providing details like the instrument, date, time, and other details about the data. A data file may look like this.\n",
    "\n",
    "    July 7, 2017\n",
    "    number, square \n",
    "    1, 1 \n",
    "    2, 4 \n",
    "    3, 9 \n",
    "    4, 16 \n",
    "    5, 25 \n",
    "    6, 36 \n",
    "    7, 49 \n",
    "    8, 64 \n",
    "    9, 81 \n",
    "    10, 100 \n",
    "    \n",
    "In this case, we need the function to skip the first two rows as follows."
   ]
  },
  {
   "cell_type": "code",
   "metadata": {},
   "source": [
    "file = np.genfromtxt('data/header_file.csv', delimiter=',', skip_header=2)\n",
    "file"
   ],
   "outputs": [],
   "execution_count": null
  },
  {
   "cell_type": "markdown",
   "metadata": {},
   "source": [
    "````{margin}\n",
    "```{note}\n",
    "NumPy has a similar function to `np.genfromtxt()` called `np.loadtxt()` that you may see around. Both functions are similar except that `np.genfromtxt()` can also read files that have missing data while `np.loadtxt()` cannot.\n",
    "```\n",
    "````"
   ]
  },
  {
   "cell_type": "markdown",
   "metadata": {},
   "source": [
    "(1.8.4)=\n",
    "### 1.8.4 Writing Data with `np.savetxt()`\n",
    "\n",
    "```{index} single: writing files; with NumPy\n",
    "```\n",
    "\n",
    "One of the easiest approaches to writing data back to a file is to again use a NumPy function, `np.savetxt()`, which requires both a file name as a string and the data. It is also recommended to include a delimiter as a string using the `delimiter=` keyword argument. This function can write a file from a list, tuple, or NumPy array (introduced in [section 4.1](4.1)), and if a list or tuple is nested, each inner list/tuple is a row in the written file.\n",
    "\n",
    "~~~python\n",
    "np.savetxt('file_name', data, delimiter='')\n",
    "~~~\n",
    "\n",
    "As an example, below is a nested list of temperatures ($^{\\circ}$C) and the density of water at each temperature (g/mL). These data are saved to a file *water_density.csv* with each value seperated by a comma.\n",
    "\n",
    "````{margin}\n",
    "```{note}\n",
    "For more information on loading data with NumPy and handling missing data, see [section 4.6](4.6). Additional tools for reading/writing data are also discussed in [section 5.2](5.2).\n",
    "```\n",
    "````"
   ]
  },
  {
   "cell_type": "code",
   "metadata": {},
   "source": [
    "# temp(C), density(g/mL)\n",
    "H2O_dens = [[10, 0.999], [20, 0.998], [30, 0.996], \n",
    "            [40, 0.992], [60, 0.983], [80, 0.972]]\n",
    "\n",
    "np.savetxt('water_density.csv', H2O_dens, delimiter=',')"
   ],
   "outputs": [],
   "execution_count": null
  },
  {
   "cell_type": "markdown",
   "metadata": {},
   "source": [
    "(1.9)=\n",
    "## 1.9 Creating Functions\n",
    "\n",
    "```{index} single: functions; creating functions\n",
    "```\n",
    "\n",
    "After you have been programming for a while, you will likely find yourself repeating the same tasks. For example, let us say your research has you repeatedly calculating the distance between two atoms based on their *xyz* coordinates. You certainly could rewrite or copy-and-paste the same code every time you need to find the distance between two atoms, but that sounds horrible. You can avoid this by creating your own function that calculates the distance. This way, every time you need to calculate the distance between a pair of atoms, you can call the function and the same section of code located in the function is executed. You only have to write the code once and then you can execute it as many times as you need whenever you need.\n",
    "\n",
    "(1.9.1)=\n",
    "### 1.9.1 Basic Functions\n",
    "\n",
    "To create your own function, you first need a name for the function. The name should be descriptive of what it does and makes sense to you and anyone who would use it. If we want to create a function to measure the distance between two atoms, `distance` might be a good name for the function. \n",
    "\t\n",
    "The first line of a function definition looks like the following: the `def` statement followed by the name of the function with whatever information, called *arguments*, that is fed into the function, and a colon at the end. In this function, we will feed it the *xyz* coordinates for both atoms as either a pair of lists or tuples. In the parentheses following the function name, place variable names you want to use to represent these coordinates. We will use `coords1` and `coords2` here.\n",
    "\n",
    "~~~python\n",
    "def distance(coords1, coords2):\n",
    "~~~\n",
    "\n",
    "Everything inside a function is indented four spaces directly below the first line. The distance between two points in 3D space is described by the following equation. \n",
    "\n",
    "$$ \\sqrt{(\\Delta x)^2 + (\\Delta y)^2 + (\\Delta z)^2} $$\n",
    "\n",
    "It is now a matter of coding this into the function. Being that we will take the square root, we also need to import the `math` module."
   ]
  },
  {
   "cell_type": "code",
   "metadata": {},
   "source": [
    "import math"
   ],
   "outputs": [],
   "execution_count": null
  },
  {
   "cell_type": "code",
   "metadata": {},
   "source": [
    "def distance(coords1, coords2):     \n",
    "# changes along the x, y, and z coordinates\n",
    "    dx = coords1[0] - coords2[0]\n",
    "    dy = coords1[1] - coords2[1]\n",
    "    dz = coords1[2] - coords2[2]\n",
    "\n",
    "    d = math.sqrt(dx**2 + dy**2 + dz**2)\n",
    "\n",
    "    print(f'The distance is: {d}')"
   ],
   "outputs": [],
   "execution_count": null
  },
  {
   "cell_type": "markdown",
   "metadata": {},
   "source": [
    "If you run the above code, nothing seems to happens This is because you defined the function but never actually used it. Calling our new function is done the same way as any other function in Python."
   ]
  },
  {
   "cell_type": "code",
   "metadata": {},
   "source": [
    "distance((1,2,3), (4,5,6))"
   ],
   "outputs": [],
   "execution_count": null
  },
  {
   "cell_type": "markdown",
   "metadata": {},
   "source": [
    "It works! This function prints out a message stating the distance between the two *xyz* coordinates, and the better part is that we can use this over and over again without having to deal with the function code."
   ]
  },
  {
   "cell_type": "code",
   "metadata": {},
   "source": [
    "distance((5,2,3), (7, 5.3, 9))"
   ],
   "outputs": [],
   "execution_count": null
  },
  {
   "cell_type": "markdown",
   "metadata": {},
   "source": [
    "(1.9.2)=\n",
    "### 1.9.2 return Statements\n",
    "\n",
    "The `distance()` function prints out a value for the distance, but what happens if we want to use this value for a subsequent calculation? Perhaps we want to calculation the average of the distances between multiple pairs of atoms. We certainly do not want to retype these values back into Python, so instead we can have the function *return* the value. You can think of functions as little machines where the arguments in the parentheses are the input and the return at the end of the function is what comes out of the machine. Below is a modified version of our `distance()` function with a `return` statement instead of printing the value. By running the following code, it overwrites the original function."
   ]
  },
  {
   "cell_type": "code",
   "metadata": {},
   "source": [
    "def distance(coords1, coords2):\n",
    "# changes along the x, y, and z coordinates\n",
    "    dx = coords1[0] - coords2[0]\n",
    "    dy = coords1[1] - coords2[1]\n",
    "    dz = coords1[2] - coords2[2]\n",
    "\n",
    "    d = math.sqrt(dx**2 + dy**2 + dz**2)\n",
    "\n",
    "    return d"
   ],
   "outputs": [],
   "execution_count": null
  },
  {
   "cell_type": "code",
   "metadata": {},
   "source": [
    "distance([5,6,7], [3,2,1])"
   ],
   "outputs": [],
   "execution_count": null
  },
  {
   "cell_type": "markdown",
   "metadata": {},
   "source": [
    "Now the function returns a float. We can assign this to a variable or append it to a list for later use."
   ]
  },
  {
   "cell_type": "code",
   "metadata": {},
   "source": [
    "dist = distance([5,6,7], [3,2,1])\n",
    "dist"
   ],
   "outputs": [],
   "execution_count": null
  },
  {
   "cell_type": "markdown",
   "metadata": {},
   "source": [
    "Below is code for iterating over a list of *xyz* coordinate pairs and calculating the distances between each pair. The values are appended to a list called `dist_list` from which the average distance is calculated."
   ]
  },
  {
   "cell_type": "code",
   "metadata": {},
   "source": [
    "pairs = (((1,2,3),(2,3,4)), ((3,7,1), (9,3,0)), ((0,0,1), (5,2,7)))"
   ],
   "outputs": [],
   "execution_count": null
  },
  {
   "cell_type": "code",
   "metadata": {},
   "source": [
    "dist_list = []\n",
    "for pair in pairs:\n",
    "    dist = distance(pair[0], pair[1])\n",
    "    dist_list.append(dist)\n",
    "\n",
    "avg = sum(dist_list)/len(dist_list)\n",
    "avg"
   ],
   "outputs": [],
   "execution_count": null
  },
  {
   "cell_type": "markdown",
   "metadata": {},
   "source": [
    "(1.9.3)=\n",
    "### 1.9.3 Local Variable Scope\n",
    "\n",
    "```{index} scope\n",
    "```\n",
    "\n",
    "Another advantage of using functions is that they maintain variables in a *local scope*. That is, any variable created *inside* a function is not accessible outside the function. If you look back at our `distance()` function, the variable `d` is only used inside the function. If we try to see what is attached to `d`, we get the following error message."
   ]
  },
  {
   "cell_type": "code",
   "metadata": {
    "tags": [
     "raises-exception"
    ]
   },
   "source": [
    "d"
   ],
   "outputs": [],
   "execution_count": null
  },
  {
   "cell_type": "markdown",
   "metadata": {},
   "source": [
    "This is because the variable `d` can only be used or accessed inside the `distance()` function. This is often very convenient because we do not have to worry about overwriting a variable or using it twice. This means that if a collaborator sends you a function that he/she wrote, you do not need to be concerned if a variable in your code is the same as one in your collaborator’s function. The function is self-contained making everything a lot simpler.\n",
    "\n",
    "The obvious down side to variables being in a local scope inside a function is that you cannot access them directly. If you really need to access a variable in a function, place it in the `return` statement at the end of the function so that the function outputs the contents. Alternatively, you can also assign the contents of a variable inside a function to a variable that was created outside the function. For example, a function can append values to a list created outside of the function, shown below, and the list can be viewed anywhere. This works because anything that is created outside of the function is visible everywhere and is said to have a *global scope*."
   ]
  },
  {
   "cell_type": "code",
   "metadata": {},
   "source": [
    "def roots(numbers):\n",
    "    for number in numbers:\n",
    "        value = math.sqrt(number)\n",
    "        square_roots.append(value)"
   ],
   "outputs": [],
   "execution_count": null
  },
  {
   "cell_type": "code",
   "metadata": {},
   "source": [
    "square_roots = []\n",
    "roots(range(10))\n",
    "\n",
    "square_roots"
   ],
   "outputs": [],
   "execution_count": null
  },
  {
   "cell_type": "markdown",
   "metadata": {},
   "source": [
    "(1.9.4)=\n",
    "### 1.9.4 Arguments\n",
    "\n",
    "Functions take in data through *arguments* placed in the parentheses after the function name. Different functions take different numbers and types of arguments from as few as zero to potentially dozes of arguments. Function arguments are also sometimes optional. Some functions allow the user to add extra data or change the functions behavior through arguments.\n",
    "    \n",
    "The first type of argument is a *positional argument*. This is an argument that is required to be in a specific position inside the parentheses. For example, the function below takes in the number of protons and neutrons, respectively, and outputs the isotope name. This function is only written for the first ten elements on the periodic table."
   ]
  },
  {
   "cell_type": "code",
   "metadata": {
    "editable": true,
    "slideshow": {
     "slide_type": ""
    },
    "tags": [
     "raises-exception"
    ]
   },
   "source": [
    "def isotope(protons, neutrons):\n",
    "    elements = ('H', 'He', 'Li', 'Be', 'B', 'C', 'N', 'O', 'F', 'Ne')\n",
    "    symbol = elements[protons - 1]\n",
    "    mass = str(protons + neutrons)\n",
    "\n",
    "    print(f'{mass}{symbol}')"
   ],
   "outputs": [],
   "execution_count": null
  },
  {
   "cell_type": "markdown",
   "metadata": {},
   "source": [
    "If we want to know the isotope contains six protons and seven neutrons, we input the values as `isotope(6, 7)` and get `13C` as expected. However, if we switch the arguments to `isotope(7,6)`, we get `13N`, which is not correct. Positional arguments are extremely common, but the user needs to know what information goes where when calling a function."
   ]
  },
  {
   "cell_type": "code",
   "metadata": {},
   "source": [
    "isotope(6, 7)"
   ],
   "outputs": [],
   "execution_count": null
  },
  {
   "cell_type": "code",
   "metadata": {},
   "source": [
    "isotope(7,6)"
   ],
   "outputs": [],
   "execution_count": null
  },
  {
   "cell_type": "markdown",
   "metadata": {},
   "source": [
    "The other common type of argument is the *keyword argument*. These arguments are attached to a variable inside the parentheses.  The advantage of a keyword argument is that the user does not need to be concerned about argument order as long as the arguments have the proper labels. Below is the same `isotope()` function redefined using keyword arguments."
   ]
  },
  {
   "cell_type": "code",
   "metadata": {},
   "source": [
    "def isotope(protons=1, neutrons=0):\n",
    "    elements = ('H', 'He', 'Li', 'Be', 'B', 'C', 'N', 'O', 'F', 'Ne')\n",
    "    symbol = elements[protons - 1]\n",
    "    mass = str(protons + neutrons)\n",
    "    \n",
    "    print(f'{mass}{symbol}')"
   ],
   "outputs": [],
   "execution_count": null
  },
  {
   "cell_type": "code",
   "metadata": {},
   "source": [
    "isotope(protons=1, neutrons=2)"
   ],
   "outputs": [],
   "execution_count": null
  },
  {
   "cell_type": "markdown",
   "metadata": {},
   "source": [
    "Now if we switch the order, we still get the same result."
   ]
  },
  {
   "cell_type": "code",
   "metadata": {},
   "source": [
    "isotope(neutrons=2, protons=1)"
   ],
   "outputs": [],
   "execution_count": null
  },
  {
   "cell_type": "markdown",
   "metadata": {},
   "source": [
    "Another advantage of a keyword argument is that a default value can be easily coded in the function. Look up at the most recent version of the `isotope()` function and you will notice that `protons` was assigned to `1` and `neutrons` was assigned to `0` in the function definition. These are the default values. If we call the function without inputing either or both of these values, the function will assume those values."
   ]
  },
  {
   "cell_type": "code",
   "metadata": {},
   "source": [
    "isotope()"
   ],
   "outputs": [],
   "execution_count": null
  },
  {
   "cell_type": "code",
   "metadata": {},
   "source": [
    "isotope(neutrons=2)"
   ],
   "outputs": [],
   "execution_count": null
  },
  {
   "cell_type": "markdown",
   "metadata": {},
   "source": [
    "Functions can also take an indeterminate number of positional or keyword arguments, but this is less common and is covered in [section 2.7](2.7) as an optional topic for those who are interested."
   ]
  },
  {
   "cell_type": "markdown",
   "metadata": {},
   "source": [
    "(1.9.5)=\n",
    "### 1.9.5 Docstrings\n",
    "\n",
    "```{index} docstrings\n",
    "```\n",
    "\n",
    "The final component of a function is the docstring. Strictly speaking, this is not necessary for a function to work and is sometimes left out for simple functions, but it is a good habit to include them. This is especially true if you are creating the function for a much larger project or passing it to other people. A *docstring* is a string placed at the top a function definition describing what the function does, what types of data it takes, and what is returned at the end of the function. Traditionally, docstrings are enclosed in triple quotes. The first line of the docstring describes what type of data goes in the function and what comes out. In the `distance()` function above, our function takes in a pair of lists or tuples and outputs a single value, so the first line may look something like this.\n",
    "\n",
    "~~~python\n",
    "def distance(coords1, coords2):\n",
    "    '''(list/tuple, list/tuple) -> float\n",
    "    '''\n",
    "~~~\n",
    "\n",
    "The subsequent lines in the docstring can include other information such as more complete descriptions of what the function does and even short examples."
   ]
  },
  {
   "cell_type": "code",
   "metadata": {},
   "source": [
    "def distance(coords1, coords2):\n",
    "    '''(list/tuple, list/tuple) -> float\n",
    "    Takes in the xyz coordinates as lists or tuples for \n",
    "    two atoms and returns the distance between them.\n",
    "    \n",
    "    distance((1,2,3), (4,5,6)) -> 5.196152422706632\n",
    "    '''\n",
    "     \n",
    "    # changes along the x, y, and z coordinates\n",
    "    dx = coords1[0] - coords2[0]\n",
    "    dy = coords1[1] - coords2[1]\n",
    "    dz = coords1[2] - coords2[2]\n",
    "    d = math.sqrt(dx**2 + dy**2 + dz**2)\n",
    "    \n",
    "    return d"
   ],
   "outputs": [],
   "execution_count": null
  },
  {
   "cell_type": "markdown",
   "metadata": {},
   "source": [
    "Once a docstring is created, it can be accessed by typing the function name, complete with parentheses, and leaving the cursor in the parentheses. Then hit **Shift + Tab** to see the docstring. This trick works with any function in this book."
   ]
  },
  {
   "cell_type": "markdown",
   "metadata": {},
   "source": [
    "## Further Reading\n",
    "\n",
    "There are a plethora of books and resources, free and otherwise, available on the Python programming language. Below are multiple examples. The most authoritative and up-to-date resource is the Python Software Foundation’s documentation page also listed below.\n",
    "\n",
    "1. Python Documentation Page. [https://www.python.org/doc/](https://www.python.org/doc/) (free resource)\n",
    "\n",
    "2. Downey, Allen B. *Think Python*, Green Tea Press, 2012. [https://greenteapress.com/wp/think-python-2e/](https://greenteapress.com/wp/think-python-2e/) (free resource)\n",
    "\n",
    "3. Reitz, K.; Schlusser, T. *The Hitchider's Guide to Python: Best Practices for Development*, O'Reilly: Sebastopol, CA, 2016.\n",
    "\n",
    "4. Das, U; Lawson, A.; Mayfield, C.; Norouzi, N.; Rajasekhar, Y.; Kanemaru, R. *Introduction to Python Programming*, Open Stax: Houston, TX, 2024. [https://openstax.org/details/books/introduction-python-programming](https://openstax.org/details/books/introduction-python-programming). (free resource)"
   ]
  },
  {
   "cell_type": "markdown",
   "metadata": {},
   "source": [
    "## Exercises\n",
    "\n",
    "Complete the following exercises in a Jupyter notebook. Any data file(s) refered to in the problems can be found in the [data](https://github.com/weisscharlesj/SciCompforChemists/tree/master/notebooks) folder in the same directory as this chapter's Jupyter notebook. Alternatively, you can download a zip file of the data for this chapter from [here](https://github.com/weisscharlesj/data_SciCompforChem) by selecting the appropriate chapter file and then clicking the **Download** button."
   ]
  },
  {
   "cell_type": "markdown",
   "metadata": {},
   "source": [
    "1. A 1.6285 L ($V$) flask contains 1.220 moles ($n$) of ideal gas at 273.0 K ($T$). Calculate the pressure ($P$) for the above system by assigning all values to variables and performing the mathematical operations on the variables. Remember that $PV = nRT$ describes the relationship between $V$, $n$, $P$, and $T$ where $R$ is 0.08206 L·atm/mol·K. \n",
    "\n",
    "2. Calculate the distance of point (23, 81) from the origin on an *xy*-plane first using the `math.hypot()` function and then by the following distance equation.\n",
    "\n",
    "    $$ \\sqrt{(\\Delta x)^2 + (\\Delta y)^2)} $$\n",
    "\n",
    "\n",
    "3. Assign x = 12 and then increase the value by 32 without typing “x = 32”. \n",
    "\n",
    "4. Solve the quadratic equation using the quadratic formula below for a = 1, b = 2, and c = 1.\n",
    "\n",
    "    $$ x = \\frac{-b \\pm \\sqrt{b^2 - 4ac}}{2a}  $$\n",
    "\n",
    "5. Create the following variable `elements = 'NaKBrClNOUP'` and slice it to obtain the following strings. \n",
    "\n",
    "    ~~~python\n",
    "    elements = 'NaKBrClNOUP'\n",
    "    ~~~\n",
    "\n",
    "\n",
    "    a. NaK\n",
    "\n",
    "    b. UP\n",
    "\n",
    "    c. KBr\n",
    "\n",
    "    d. NKrlOP\n",
    "\n",
    "6. A single bond is comprised of a sigma bond while a double bond includes a sigma plus a pi bond. The following strings contain the bond energies (kJ/mol) for a typical C-C single bond and C=C double bond. Perform a mathematical operation on CC_single and CC_double to estimate how much energy a pi bond contributes to a C=C double bond.\n",
    "\n",
    "    ~~~python\n",
    "    CC_single = \"345\"\n",
    "    CC_double = \"611\"\n",
    "    ~~~\n",
    "\n",
    "\n",
    "7. Removing file extensions\n",
    "\n",
    "    a) Write a Python script that takes the name of a PNG image (i.e., name always ends in “.png”) and removes the     “.png” file extension using a [string method](1.3.3).\n",
    "         \n",
    "    b) Write a Python script that removes the file extension from a file name using [slicing](1.3.2). You may assume that the file extensions will always be three letters long with a period (e.g., .png, .pdf, .txt, etc…).\n",
    "\n",
    "\n",
    "8. For `DNA = 'ATTCGCCGCTTA'`, use [Boolean logic](1.4) to show that the DNA sequence is a palindrome (same forwards and backwards). Hint: this will require a Boolean logic operator to evaluate as `True`.\n",
    "\n",
    "    ~~~python\n",
    "    DNA = 'ATTCGCCGCTTA\n",
    "    ~~~\n",
    "\n",
    "\n",
    "9. The following are the atomic numbers of lithium, carbon, and sodium. Assign each to a variable and use Python Boolean logic operators to evaluate each of the following.\n",
    "\n",
    "    ~~~python\n",
    "    Li, C, Na = 3, 6, 11\n",
    "    ~~~\n",
    "         \n",
    "         \n",
    "    a) Is Li greater than C?\n",
    "         \n",
    "    b) Is Na less than or equal to C?\n",
    "  \n",
    "    c) Is either Li or Na greater than C?   \n",
    "   \n",
    "    d) Are both C and Na greater than Li?\n",
    "         \n",
    "10. Write a Python script that can take in any of the following molecular formulas as a string and print out whether the compound is an acidic, basic, or neutral compound when dissolved in water. The script should not contain pre-sorted lists of compound but rather determine the class of molecule base on the formula. Hint: first look for patterns in the acid and base formulas in the following collection.\n",
    "\n",
    "    |      |      |     |        |        |     |\n",
    "    |------|------|-----|-------|--------|------|\n",
    "    | HCl  | NaOH | KCl | H2SO4 | Ca(OH)2 | KOH |\n",
    "    | HNO3  | Na2SO4 | KNO3 | Mg(OH)2 | HCO2H | NaBr |\n",
    "\n",
    "11. Write a Python script that takes in the number of electrons and protons and determines if a compound is cationic, anionic, or neutral.\n",
    "\n",
    "12. Create a list of even numbers from 18 $\\rightarrow$ 88 including 88. Using list methods, perform the following transformations in order on the same list:\n",
    "\n",
    "    a) Reverse the list\n",
    "\n",
    "    b) Remove the last value (i.e., 18)\n",
    "\n",
    "    c) Append 16\n",
    "\n",
    "13. In a Jupyter notebook:\n",
    "         \n",
    "    a) Create a tuple of even numbers from 18 $\\rightarrow$ 320 including 320. \n",
    "\n",
    "    b) Can you reverse, remove, or append values to the tuple?\n",
    "\n",
    "14. The following code generates a random list of integers from 0 $\\rightarrow$ 20 ([section 2.4.3](2.4.3) will cover this in more detail). Run the code and test to see if 7 is in the list. Hint: [section 1.4.5](1.4.5) may be helpful.\n",
    "\n",
    "    ~~~python\n",
    "    import random\n",
    "    nums = [random.randint(0,20) for x in range(10)]\n",
    "    ~~~\n",
    "      \n",
    "    \n",
    "15. Write a sentence (string) attached to a variable. \n",
    "\n",
    "    a) Convert all letters to lowercase and split the sentence into individual words using the `split()` string method. This will generate a list of words. \n",
    "\n",
    "    b) Modify the list (i.e., the list itself changes) so that the words are in alphabetical order. Hint: use list and string methods.\n",
    "\n",
    "\n",
    "16. Using a `for` loop, iterate over a range object and append 2$\\times$ each value into a list called double.\n",
    "\n",
    "17. Write a Python script that prints out “PV = nRT” twenty times.\n",
    "\n",
    "18. Write a script that generates the following output without typing it yourself. Be sure to include unit labels with the space.\n",
    "\n",
    "    `1000 g`\n",
    "\n",
    "    `500.0 g`\n",
    "\n",
    "    `250.0 g`\n",
    "\n",
    "    `125.0 g`\n",
    "\n",
    "    `62.5 g`\n",
    "\n",
    "    `31.25 g`\n",
    "\n",
    "19. The isotope $^{137}Cs$ has a half-life about 30.2 years. Using a `while` loop, determine how many half-lives until a 500.0 g sample would have to decay until there is less that 10.00 grams left. To accomplish this, create a counter (`counter = 0`) and add 1 to it each cycle of a `while` loop to keep count.\n",
    "\n",
    "20. What is a faulty termination condition and what is one safeguard agains them?... aside from not using `while` loops.\n",
    "\n",
    "\n",
    "    For the following two file I/O problems, first run the following code to generate a test file containing simulated kinetics data.\n",
    "\n",
    "    ~~~python\n",
    "    import math\n",
    "    with open('test.csv', 'a') as file:\n",
    "        file.write('time, [A] \\n')\n",
    "        for t in range(20):\n",
    "            file.write('%s, %s \\n' % (t, math.exp(-0.5*t)))\n",
    "    ~~~\n",
    "\n",
    "\n",
    "21. Using Python's native [`open()` and `readlines()`](1.8.1) functions, open the **test.txt** file and print each line.\n",
    "\n",
    "22. Using [`np.genfromtxt()`](1.8.2), read the **test.txt** file and append the time values to one list and the concentration values to a second list. You will need to skip a line in the file.\n",
    "\n",
    "23. Write and test a function, complete with docstring, that solves the Ideal Gas Law for pressure when provided with volume, temperature, and moles of gas (R = 0.08206 L·atm/mol·K) with the following stipulations.       \n",
    "\n",
    "    a) Create one version of the function that takes only positional arguments.\n",
    "    \n",
    "    b) Create a second copy of the function that takes only keyword arguments. Try testing this function with positional       arguments. Does it still work?\n",
    "\n",
    "24. Complete a function started below that calculates the rate of a single-step chemical reaction nA → P using the differential rate law (Rate = k[A]$^n$).\n",
    "\n",
    "    ~~~python\n",
    "    def rate(A0, k=1.0, n=1):\n",
    "        ''' (concentration(M), k = 1.0, n = 1) → rate (M/s)\n",
    "        Takes in the concentration of A (M), the rate constant (k), \n",
    "        and the order (n) and returns the rate (M/s)\n",
    "        '''   \n",
    "    ~~~\n",
    "\n",
    "\n",
    "25. DNA is composed of two strands of the nucleotides adenine (A), thymine (T), guanine (G), and cytosine (C). The two strands are lined up with adenine always opposite of thymine and guanine opposite cytosine. For example, if one strand is ATGGC, then the opposite strand is TACCG. Write a function that takes in a DNA strand as a string and prints the opposite DNA strand of nucleotides."
   ]
  },
  {
   "cell_type": "code",
   "metadata": {},
   "source": [],
   "outputs": [],
   "execution_count": null
  }
 ],
 "metadata": {
  "kernelspec": {
   "display_name": "Python 3 (ipykernel)",
   "language": "python",
   "name": "python3"
  },
  "language_info": {
   "codemirror_mode": {
    "name": "ipython",
    "version": 3
   },
   "file_extension": ".py",
   "mimetype": "text/x-python",
   "name": "python",
   "nbconvert_exporter": "python",
   "pygments_lexer": "ipython3",
   "version": "3.11.4"
  }
 },
 "nbformat": 4,
 "nbformat_minor": 4
}
